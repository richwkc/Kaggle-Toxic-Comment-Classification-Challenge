{
 "cells": [
  {
   "cell_type": "markdown",
   "metadata": {},
   "source": [
    "# Word2Vec then RNN"
   ]
  },
  {
   "cell_type": "markdown",
   "metadata": {},
   "source": [
    "## Imports and setting up TensorBoard"
   ]
  },
  {
   "cell_type": "code",
   "execution_count": 3,
   "metadata": {},
   "outputs": [
    {
     "name": "stdout",
     "output_type": "stream",
     "text": [
      "[name: \"/cpu:0\"\n",
      "device_type: \"CPU\"\n",
      "memory_limit: 268435456\n",
      "locality {\n",
      "}\n",
      "incarnation: 5875315600476728809\n",
      "]\n"
     ]
    }
   ],
   "source": [
    "from data_preparation import *\n",
    "import tensorflow as tf\n",
    "from keras.models import Sequential\n",
    "from keras.layers import LSTM, Dense, Bidirectional, TimeDistributed, Dropout, Embedding\n",
    "from keras.optimizers import Adam\n",
    "from keras_train_helper import tfauc\n",
    "from tensorflow.python.client import device_lib\n",
    "from keras_train_helper import rotateTensorboardLogs\n",
    "from keras.callbacks import TensorBoard\n",
    "from keras_train_helper import PrintAucCallback\n",
    "\n",
    "tensorBoardCallback = TensorBoard(log_dir=\"./tb-logs\")\n",
    "print(device_lib.list_local_devices())"
   ]
  },
  {
   "cell_type": "markdown",
   "metadata": {},
   "source": [
    "## Loading data and setting up preprocessing tools"
   ]
  },
  {
   "cell_type": "code",
   "execution_count": 4,
   "metadata": {},
   "outputs": [
    {
     "name": "stdout",
     "output_type": "stream",
     "text": [
      "Loading datasets...\n",
      "train: (127656, 8), test: (31915, 8), allData: (159571, 8), contestTest: (153164, 2)\n"
     ]
    }
   ],
   "source": [
    "train, test, allData, contestTest = loadData()"
   ]
  },
  {
   "cell_type": "code",
   "execution_count": 5,
   "metadata": {
    "scrolled": true
   },
   "outputs": [
    {
     "name": "stdout",
     "output_type": "stream",
     "text": [
      "Splitting sentences...\n",
      "Splitting sentences...\n",
      "Loading w2i and i2w dictionaries...\n"
     ]
    }
   ],
   "source": [
    "from sklearn.pipeline import Pipeline\n",
    "\n",
    "maxSeqLength = 250\n",
    "\n",
    "splitter = SentenceSplitter(\"comment_text\")\n",
    "allWords = pd.concat([splitter.transform(allData), splitter.transform(contestTest)])\n",
    "w2i = Word2Int(allWords)\n",
    "zeroPadder = ZeroPadder(maxSeqLength)\n",
    "\n",
    "preparationPipeline = Pipeline(steps=[\n",
    "    (\"split\", splitter),\n",
    "    (\"w2i\", w2i),\n",
    "    (\"zeroPadding\", zeroPadder) ])"
   ]
  },
  {
   "cell_type": "code",
   "execution_count": 6,
   "metadata": {},
   "outputs": [
    {
     "name": "stdout",
     "output_type": "stream",
     "text": [
      "Loading word2vec dictionary...\n"
     ]
    }
   ],
   "source": [
    "w2v = Word2Vec(50, allWords, w2i.w2i, seed=4324)\n",
    "embeddingMatrix, i2v = w2v.embeddingMatrix()"
   ]
  },
  {
   "cell_type": "markdown",
   "metadata": {},
   "source": [
    "## Define the model"
   ]
  },
  {
   "cell_type": "markdown",
   "metadata": {},
   "source": [
    "### Define the model"
   ]
  },
  {
   "cell_type": "code",
   "execution_count": 7,
   "metadata": {},
   "outputs": [],
   "source": [
    "lstmUnits = [100]\n",
    "numClasses = 2\n",
    "batchSize = 1024"
   ]
  },
  {
   "cell_type": "code",
   "execution_count": 8,
   "metadata": {},
   "outputs": [
    {
     "name": "stdout",
     "output_type": "stream",
     "text": [
      "_________________________________________________________________\n",
      "Layer (type)                 Output Shape              Param #   \n",
      "=================================================================\n",
      "embedding_1 (Embedding)      (None, 250, 50)           19255800  \n",
      "_________________________________________________________________\n",
      "LSTM (Bidirectional)         (None, 200)               120800    \n",
      "_________________________________________________________________\n",
      "dropout (Dropout)            (None, 200)               0         \n",
      "_________________________________________________________________\n",
      "softmax_output (Dense)       (None, 2)                 402       \n",
      "=================================================================\n",
      "Total params: 19,377,002\n",
      "Trainable params: 121,202\n",
      "Non-trainable params: 19,255,800\n",
      "_________________________________________________________________\n",
      "None\n"
     ]
    }
   ],
   "source": [
    "model = Sequential()\n",
    "\n",
    "model.add(Embedding(\n",
    "    embeddingMatrix.shape[0],\n",
    "    embeddingMatrix.shape[1],\n",
    "    weights=[embeddingMatrix],\n",
    "    input_length=maxSeqLength,\n",
    "    trainable=False))\n",
    "\n",
    "model.add(Bidirectional(LSTM(lstmUnits[0]), name=\"LSTM\"))\n",
    "\n",
    "model.add(Dropout(.2, name=\"dropout\"))\n",
    "\n",
    "model.add(Dense(\n",
    "    2, \n",
    "    activation=\"softmax\", \n",
    "    name=\"softmax_output\"))\n",
    "\n",
    "model.compile(\n",
    "    loss=\"categorical_crossentropy\", \n",
    "    optimizer=\"nadam\", \n",
    "    metrics=[tfauc])\n",
    "\n",
    "print(model.summary())"
   ]
  },
  {
   "cell_type": "markdown",
   "metadata": {},
   "source": [
    "## Prepare data and train the model"
   ]
  },
  {
   "cell_type": "code",
   "execution_count": 9,
   "metadata": {},
   "outputs": [],
   "source": [
    "rotateTensorboardLogs()"
   ]
  },
  {
   "cell_type": "code",
   "execution_count": 10,
   "metadata": {},
   "outputs": [],
   "source": [
    "labelizer = Labelizer(\"toxic\")\n",
    "oversampler = Oversampler(\"toxic\")"
   ]
  },
  {
   "cell_type": "code",
   "execution_count": 11,
   "metadata": {},
   "outputs": [
    {
     "name": "stdout",
     "output_type": "stream",
     "text": [
      "Oversampling...\n",
      "Splitting sentences...\n",
      "Converting words to integers...\n",
      "Zero-padding...\n",
      "Splitting sentences...\n",
      "Converting words to integers...\n",
      "Zero-padding...\n"
     ]
    }
   ],
   "source": [
    "trainOversampled = oversampler.transform(train)\n",
    "\n",
    "trainSentences = preparationPipeline.transform(trainOversampled)\n",
    "trainLabels = labelizer.transform(trainOversampled)\n",
    "testSentences = preparationPipeline.transform(test)\n",
    "testLabels = labelizer.transform(test)"
   ]
  },
  {
   "cell_type": "code",
   "execution_count": null,
   "metadata": {
    "scrolled": false
   },
   "outputs": [],
   "source": [
    "%%time\n",
    "tf.set_random_seed(43245)\n",
    "np.random.seed(453252)\n",
    "printAucCallback = PrintAucCallback(testSentences, testLabels, allTestDataPerEpochs=1)\n",
    "\n",
    "model.fit(\n",
    "    trainSentences, \n",
    "    trainLabels, \n",
    "    nb_epoch=5, \n",
    "    batch_size=batchSize,\n",
    "    callbacks=[tensorBoardCallback, printAucCallback])"
   ]
  },
  {
   "cell_type": "markdown",
   "metadata": {},
   "source": [
    "## Evaluate on test data"
   ]
  },
  {
   "cell_type": "code",
   "execution_count": 20,
   "metadata": {},
   "outputs": [
    {
     "data": {
      "image/png": "[encoded data removed]",
      "text/plain": [
       "<matplotlib.figure.Figure at 0x7f4e7cec58d0>"
      ]
     },
     "metadata": {},
     "output_type": "display_data"
    }
   ],
   "source": [
    "import matplotlib.pyplot as plt\n",
    "plt.plot([value for key, value in printAucCallback.listOfAucs])\n",
    "\n",
    "plt.ylabel(\"Area under ROC\")\n",
    "plt.xlabel(\"Epoch\")\n",
    "plt.show()"
   ]
  },
  {
   "cell_type": "code",
   "execution_count": 21,
   "metadata": {
    "scrolled": false
   },
   "outputs": [
    {
     "data": {
      "text/html": [
       "<div style='font-weight:bold'>Confusion Matrix :</div>"
      ],
      "text/plain": [
       "<IPython.core.display.HTML object>"
      ]
     },
     "metadata": {},
     "output_type": "display_data"
    },
    {
     "name": "stdout",
     "output_type": "stream",
     "text": [
      "           P Neutral  P Toxic\n",
      "T Neutral       9016        5\n",
      "T Toxic          960       19\n"
     ]
    },
    {
     "data": {
      "text/html": [
       "<div style='font-weight:bold'>Relativized Confusion Matrix :</div>"
      ],
      "text/plain": [
       "<IPython.core.display.HTML object>"
      ]
     },
     "metadata": {},
     "output_type": "display_data"
    },
    {
     "name": "stdout",
     "output_type": "stream",
     "text": [
      "           P Neutral  P Toxic\n",
      "T Neutral     0.9016   0.0005\n",
      "T Toxic       0.0960   0.0019\n"
     ]
    },
    {
     "data": {
      "text/html": [
       "<div style='font-weight:bold'>F1 score :</div>"
      ],
      "text/plain": [
       "<IPython.core.display.HTML object>"
      ]
     },
     "metadata": {},
     "output_type": "display_data"
    },
    {
     "name": "stdout",
     "output_type": "stream",
     "text": [
      "0.038\n"
     ]
    },
    {
     "data": {
      "text/html": [
       "<div style='font-weight:bold'>Logarithmic loss :</div>"
      ],
      "text/plain": [
       "<IPython.core.display.HTML object>"
      ]
     },
     "metadata": {},
     "output_type": "display_data"
    },
    {
     "name": "stdout",
     "output_type": "stream",
     "text": [
      "0.2818\n"
     ]
    },
    {
     "data": {
      "text/html": [
       "<div style='font-weight:bold'>Area under ROC :</div>"
      ],
      "text/plain": [
       "<IPython.core.display.HTML object>"
      ]
     },
     "metadata": {},
     "output_type": "display_data"
    },
    {
     "data": {
      "text/html": [
       "<div style='font-weight:bold; color:red'>0.7517762718903876</div>"
      ],
      "text/plain": [
       "<IPython.core.display.HTML object>"
      ]
     },
     "metadata": {},
     "output_type": "display_data"
    },
    {
     "data": {
      "image/png": "[encoded data removed]",
      "text/plain": [
       "<matplotlib.figure.Figure at 0x7f4e7cec56a0>"
      ]
     },
     "metadata": {},
     "output_type": "display_data"
    }
   ],
   "source": [
    "from evaluate_predictions import evaluatePredictions\n",
    "\n",
    "predictions = model.predict(testSentences, batch_size=batchSize)\n",
    "binaryPredictions = np.where(predictions[:, 1] > 0.5, 1, 0)\n",
    "labels = testLabels[:, 1]\n",
    "\n",
    "evaluatePredictions(pd.Series(labels), binaryPredictions, predictions)"
   ]
  }
 ],
 "metadata": {
  "kernelspec": {
   "display_name": "Python 3",
   "language": "python",
   "name": "python3"
  },
  "language_info": {
   "codemirror_mode": {
    "name": "ipython",
    "version": 3
   },
   "file_extension": ".py",
   "mimetype": "text/x-python",
   "name": "python",
   "nbconvert_exporter": "python",
   "pygments_lexer": "ipython3",
   "version": "3.6.2"
  }
 },
 "nbformat": 4,
 "nbformat_minor": 1
}
