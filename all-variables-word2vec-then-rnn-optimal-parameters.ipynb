{
 "cells": [
  {
   "cell_type": "markdown",
   "metadata": {},
   "source": [
    "# Word2Vec then RNN"
   ]
  },
  {
   "cell_type": "markdown",
   "metadata": {},
   "source": [
    "## Imports and setting up TensorBoard"
   ]
  },
  {
   "cell_type": "code",
   "execution_count": 1,
   "metadata": {},
   "outputs": [
    {
     "name": "stderr",
     "output_type": "stream",
     "text": [
      "Using TensorFlow backend.\n"
     ]
    },
    {
     "name": "stdout",
     "output_type": "stream",
     "text": [
      "[name: \"/cpu:0\"\n",
      "device_type: \"CPU\"\n",
      "memory_limit: 268435456\n",
      "locality {\n",
      "}\n",
      "incarnation: 4401543046536381601\n",
      "]\n"
     ]
    }
   ],
   "source": [
    "from data_preparation import *\n",
    "import tensorflow as tf\n",
    "from keras.models import Sequential\n",
    "from keras.layers import LSTM, Dense, Bidirectional, TimeDistributed, Dropout, Embedding\n",
    "from keras.optimizers import Adam\n",
    "from keras_train_helper import tfauc\n",
    "from tensorflow.python.client import device_lib\n",
    "from keras_train_helper import rotateTensorboardLogs\n",
    "from keras.callbacks import TensorBoard\n",
    "from keras_train_helper import PrintAucCallback\n",
    "\n",
    "tensorBoardCallback = TensorBoard(log_dir=\"./tb-logs\")\n",
    "print(device_lib.list_local_devices())"
   ]
  },
  {
   "cell_type": "markdown",
   "metadata": {},
   "source": [
    "## Loading data and setting up preprocessing tools"
   ]
  },
  {
   "cell_type": "code",
   "execution_count": 2,
   "metadata": {},
   "outputs": [
    {
     "name": "stdout",
     "output_type": "stream",
     "text": [
      "Loading datasets...\n",
      "train: (127656, 8), test: (31915, 8), allData: (159571, 8), contestTest: (153164, 2)\n"
     ]
    }
   ],
   "source": [
    "train, test, allData, contestTest = loadData()"
   ]
  },
  {
   "cell_type": "code",
   "execution_count": 3,
   "metadata": {
    "scrolled": true
   },
   "outputs": [
    {
     "name": "stdout",
     "output_type": "stream",
     "text": [
      "Splitting sentences...\n",
      "Splitting sentences...\n",
      "Loading w2i and i2w dictionaries...\n"
     ]
    }
   ],
   "source": [
    "from sklearn.pipeline import Pipeline\n",
    "\n",
    "maxSeqLength = 250\n",
    "\n",
    "splitter = SentenceSplitter(\"comment_text\")\n",
    "allWords = pd.concat([splitter.transform(allData), splitter.transform(contestTest)])\n",
    "w2i = Word2Int(allWords)\n",
    "zeroPadder = ZeroPadder(maxSeqLength)\n",
    "\n",
    "preparationPipeline = Pipeline(steps=[\n",
    "    (\"split\", splitter),\n",
    "    (\"w2i\", w2i),\n",
    "    (\"zeroPadding\", zeroPadder) ])"
   ]
  },
  {
   "cell_type": "code",
   "execution_count": 4,
   "metadata": {},
   "outputs": [
    {
     "name": "stdout",
     "output_type": "stream",
     "text": [
      "Loading word2vec dictionary...\n"
     ]
    }
   ],
   "source": [
    "%%time\n",
    "w2v = Word2Vec(50, allWords, w2i.w2i, seed=4324)\n",
    "embeddingMatrix, i2v = w2v.embeddingMatrix()"
   ]
  },
  {
   "cell_type": "markdown",
   "metadata": {},
   "source": [
    "## Define the model"
   ]
  },
  {
   "cell_type": "markdown",
   "metadata": {},
   "source": [
    "### Define the model"
   ]
  },
  {
   "cell_type": "code",
   "execution_count": 22,
   "metadata": {},
   "outputs": [],
   "source": [
    "lstmUnits = [100]\n",
    "numClasses = 2\n",
    "batchSize = 1024\n",
    "\n",
    "def defineModel():\n",
    "    model = Sequential()\n",
    "\n",
    "    model.add(Embedding(\n",
    "        embeddingMatrix.shape[0],\n",
    "        embeddingMatrix.shape[1],\n",
    "        weights=[embeddingMatrix],\n",
    "        input_length=maxSeqLength,\n",
    "        trainable=False))\n",
    "\n",
    "    model.add(Bidirectional(LSTM(lstmUnits[0]), name=\"LSTM\"))\n",
    "\n",
    "    model.add(Dropout(.2, name=\"dropout\"))\n",
    "\n",
    "    model.add(Dense(\n",
    "        2, \n",
    "        activation=\"softmax\", \n",
    "        name=\"softmax_output\"))\n",
    "\n",
    "    model.compile(\n",
    "        loss=\"categorical_crossentropy\", \n",
    "        optimizer=\"nadam\", \n",
    "        metrics=[tfauc])\n",
    "\n",
    "    print(model.summary())\n",
    "    return model"
   ]
  },
  {
   "cell_type": "markdown",
   "metadata": {},
   "source": [
    "## Prepare data and train the model"
   ]
  },
  {
   "cell_type": "code",
   "execution_count": 34,
   "metadata": {},
   "outputs": [],
   "source": [
    "def trainModel(trainDataset, testDataset, label, epochs, fast=False):\n",
    "    print(\"Building model for target variable: {}\".format(label))\n",
    "    model = defineModel()\n",
    "    \n",
    "    tf.set_random_seed(43245)\n",
    "    np.random.seed(453252)\n",
    "    \n",
    "    labelizer = Labelizer(label)\n",
    "    oversampler = Oversampler(label)\n",
    "    \n",
    "    trainOversampled = oversampler.transform(trainDataset)\n",
    "\n",
    "    trainSentences = preparationPipeline.transform(trainOversampled)[:1000]\n",
    "    trainLabels = labelizer.transform(trainOversampled)[:1000]\n",
    "    testSentences = preparationPipeline.transform(testDataset)[:1000]\n",
    "    testLabels = labelizer.transform(testDataset)[:1000]\n",
    "\n",
    "    printAucCallback = PrintAucCallback(testSentences, testLabels, allTestDataPerEpochs=1)\n",
    "    if fast:\n",
    "        callbacks = []\n",
    "    else:\n",
    "        callbacks = [tensorBoardCallback, printAucCallback]\n",
    "    \n",
    "    model.fit(\n",
    "        trainSentences, \n",
    "        trainLabels, \n",
    "        nb_epoch=epochs, \n",
    "        batch_size=batchSize,\n",
    "        callbacks=callbacks)\n",
    "    \n",
    "    return model"
   ]
  },
  {
   "cell_type": "code",
   "execution_count": 33,
   "metadata": {},
   "outputs": [
    {
     "name": "stdout",
     "output_type": "stream",
     "text": [
      "_________________________________________________________________\n",
      "Layer (type)                 Output Shape              Param #   \n",
      "=================================================================\n",
      "embedding_6 (Embedding)      (None, 250, 50)           19255800  \n",
      "_________________________________________________________________\n",
      "LSTM (Bidirectional)         (None, 200)               120800    \n",
      "_________________________________________________________________\n",
      "dropout (Dropout)            (None, 200)               0         \n",
      "_________________________________________________________________\n",
      "softmax_output (Dense)       (None, 2)                 402       \n",
      "=================================================================\n",
      "Total params: 19,377,002\n",
      "Trainable params: 121,202\n",
      "Non-trainable params: 19,255,800\n",
      "_________________________________________________________________\n",
      "None\n",
      "Oversampling...\n",
      "Splitting sentences...\n",
      "Converting words to integers...\n",
      "Zero-padding...\n",
      "Splitting sentences...\n",
      "Converting words to integers...\n",
      "Zero-padding...\n"
     ]
    },
    {
     "name": "stderr",
     "output_type": "stream",
     "text": [
      "/home/mariosk/anaconda2/envs/ipykernel_py3/lib/python3.6/site-packages/keras/models.py:944: UserWarning: The `nb_epoch` argument in `fit` has been renamed `epochs`.\n",
      "  warnings.warn('The `nb_epoch` argument in `fit` '\n"
     ]
    },
    {
     "name": "stdout",
     "output_type": "stream",
     "text": [
      "Epoch 1/2\n",
      " - all-test-data-auc: 0.5441\n",
      "1000/1000 [==============================] - 10s 10ms/step - loss: 0.5858 - tfauc: 0.8879\n",
      "Epoch 2/2\n",
      " - all-test-data-auc: 0.5722\n",
      "1000/1000 [==============================] - 10s 10ms/step - loss: 0.3546 - tfauc: 0.9026\n",
      "_________________________________________________________________\n",
      "Layer (type)                 Output Shape              Param #   \n",
      "=================================================================\n",
      "embedding_7 (Embedding)      (None, 250, 50)           19255800  \n",
      "_________________________________________________________________\n",
      "LSTM (Bidirectional)         (None, 200)               120800    \n",
      "_________________________________________________________________\n",
      "dropout (Dropout)            (None, 200)               0         \n",
      "_________________________________________________________________\n",
      "softmax_output (Dense)       (None, 2)                 402       \n",
      "=================================================================\n",
      "Total params: 19,377,002\n",
      "Trainable params: 121,202\n",
      "Non-trainable params: 19,255,800\n",
      "_________________________________________________________________\n",
      "None\n",
      "Oversampling...\n",
      "Splitting sentences...\n",
      "Converting words to integers...\n",
      "Zero-padding...\n",
      "Splitting sentences...\n",
      "Converting words to integers...\n",
      "Zero-padding...\n",
      "Epoch 1/2\n",
      " - all-test-data-auc: 0.5519\n",
      "1000/1000 [==============================] - 10s 10ms/step - loss: 0.6121 - tfauc: 0.8808\n",
      "Epoch 2/2\n",
      " - all-test-data-auc: 0.4663\n",
      "1000/1000 [==============================] - 10s 10ms/step - loss: 0.2651 - tfauc: 0.9587\n",
      "_________________________________________________________________\n",
      "Layer (type)                 Output Shape              Param #   \n",
      "=================================================================\n",
      "embedding_8 (Embedding)      (None, 250, 50)           19255800  \n",
      "_________________________________________________________________\n",
      "LSTM (Bidirectional)         (None, 200)               120800    \n",
      "_________________________________________________________________\n",
      "dropout (Dropout)            (None, 200)               0         \n",
      "_________________________________________________________________\n",
      "softmax_output (Dense)       (None, 2)                 402       \n",
      "=================================================================\n",
      "Total params: 19,377,002\n",
      "Trainable params: 121,202\n",
      "Non-trainable params: 19,255,800\n",
      "_________________________________________________________________\n",
      "None\n",
      "Oversampling...\n",
      "Splitting sentences...\n",
      "Converting words to integers...\n",
      "Zero-padding...\n",
      "Splitting sentences...\n",
      "Converting words to integers...\n",
      "Zero-padding...\n",
      "Epoch 1/1\n",
      " - all-test-data-auc: 0.4285\n",
      "1000/1000 [==============================] - 10s 10ms/step - loss: 0.6200 - tfauc: 0.8466\n",
      "_________________________________________________________________\n",
      "Layer (type)                 Output Shape              Param #   \n",
      "=================================================================\n",
      "embedding_9 (Embedding)      (None, 250, 50)           19255800  \n",
      "_________________________________________________________________\n",
      "LSTM (Bidirectional)         (None, 200)               120800    \n",
      "_________________________________________________________________\n",
      "dropout (Dropout)            (None, 200)               0         \n",
      "_________________________________________________________________\n",
      "softmax_output (Dense)       (None, 2)                 402       \n",
      "=================================================================\n",
      "Total params: 19,377,002\n",
      "Trainable params: 121,202\n",
      "Non-trainable params: 19,255,800\n",
      "_________________________________________________________________\n",
      "None\n",
      "Oversampling...\n",
      "Splitting sentences...\n",
      "Converting words to integers...\n",
      "Zero-padding...\n",
      "Splitting sentences...\n",
      "Converting words to integers...\n",
      "Zero-padding...\n",
      "Epoch 1/3\n",
      " - all-test-data-auc: 0.8308\n",
      "1000/1000 [==============================] - 11s 11ms/step - loss: 0.5600 - tfauc: 0.9693\n",
      "Epoch 2/3\n",
      " - all-test-data-auc: 0.8318\n",
      "1000/1000 [==============================] - 10s 10ms/step - loss: 0.2213 - tfauc: 0.9896\n",
      "Epoch 3/3\n",
      " - all-test-data-auc: 0.8188\n",
      "1000/1000 [==============================] - 10s 10ms/step - loss: 0.1311 - tfauc: 0.9937\n",
      "_________________________________________________________________\n",
      "Layer (type)                 Output Shape              Param #   \n",
      "=================================================================\n",
      "embedding_10 (Embedding)     (None, 250, 50)           19255800  \n",
      "_________________________________________________________________\n",
      "LSTM (Bidirectional)         (None, 200)               120800    \n",
      "_________________________________________________________________\n",
      "dropout (Dropout)            (None, 200)               0         \n",
      "_________________________________________________________________\n",
      "softmax_output (Dense)       (None, 2)                 402       \n",
      "=================================================================\n",
      "Total params: 19,377,002\n",
      "Trainable params: 121,202\n",
      "Non-trainable params: 19,255,800\n",
      "_________________________________________________________________\n",
      "None\n",
      "Oversampling...\n",
      "Splitting sentences...\n",
      "Converting words to integers...\n",
      "Zero-padding...\n",
      "Splitting sentences...\n",
      "Converting words to integers...\n",
      "Zero-padding...\n",
      "Epoch 1/2\n",
      " - all-test-data-auc: 0.5117\n",
      "1000/1000 [==============================] - 10s 10ms/step - loss: 0.5911 - tfauc: 0.9086\n",
      "Epoch 2/2\n",
      " - all-test-data-auc: 0.5068\n",
      "1000/1000 [==============================] - 9s 9ms/step - loss: 0.3277 - tfauc: 0.9368\n",
      "_________________________________________________________________\n",
      "Layer (type)                 Output Shape              Param #   \n",
      "=================================================================\n",
      "embedding_11 (Embedding)     (None, 250, 50)           19255800  \n",
      "_________________________________________________________________\n",
      "LSTM (Bidirectional)         (None, 200)               120800    \n",
      "_________________________________________________________________\n",
      "dropout (Dropout)            (None, 200)               0         \n",
      "_________________________________________________________________\n",
      "softmax_output (Dense)       (None, 2)                 402       \n",
      "=================================================================\n",
      "Total params: 19,377,002\n",
      "Trainable params: 121,202\n",
      "Non-trainable params: 19,255,800\n",
      "_________________________________________________________________\n",
      "None\n",
      "Oversampling...\n",
      "Splitting sentences...\n",
      "Converting words to integers...\n",
      "Zero-padding...\n",
      "Splitting sentences...\n",
      "Converting words to integers...\n",
      "Zero-padding...\n",
      "Epoch 1/2\n",
      " - all-test-data-auc: 0.3992\n",
      "1000/1000 [==============================] - 11s 11ms/step - loss: 0.6121 - tfauc: 0.8809\n",
      "Epoch 2/2\n",
      " - all-test-data-auc: 0.3835\n",
      "1000/1000 [==============================] - 10s 10ms/step - loss: 0.2661 - tfauc: 0.9582\n"
     ]
    }
   ],
   "source": [
    "contestModels = [trainModel(\"toxic\", 2), trainModel(\"severe_toxic\", 2), trainModel(\"obscene\", 1), trainModel(\"threat\", 3), trainModel(\"insult\", 2), trainModel(\"identity_hate\", 2)]"
   ]
  },
  {
   "cell_type": "code",
   "execution_count": 38,
   "metadata": {},
   "outputs": [
    {
     "name": "stdout",
     "output_type": "stream",
     "text": [
      "Splitting sentences...\n",
      "Converting words to integers...\n",
      "Zero-padding...\n",
      "Splitting sentences...\n",
      "Converting words to integers...\n",
      "Zero-padding...\n",
      "Splitting sentences...\n",
      "Converting words to integers...\n",
      "Zero-padding...\n",
      "Splitting sentences...\n",
      "Converting words to integers...\n",
      "Zero-padding...\n",
      "Splitting sentences...\n",
      "Converting words to integers...\n",
      "Zero-padding...\n",
      "Splitting sentences...\n",
      "Converting words to integers...\n",
      "Zero-padding...\n"
     ]
    }
   ],
   "source": [
    "categories = [\"toxic\", \"severe_toxic\", \"obscene\", \"threat\", \"insult\", \"identity_hate\"]\n",
    "contestPredictionProbabilities = {category: model.predict(preparationPipeline.transform(contestTest[:1000])) for (category, model) in zip(categories, contestModels)}"
   ]
  },
  {
   "cell_type": "code",
   "execution_count": 41,
   "metadata": {},
   "outputs": [],
   "source": [
    "suffledResult = pd.DataFrame(dict(\n",
    "    [(\"id\", contestTest[:1000].id)] \n",
    "    + [(name, preds[:, 1]) for (name, preds) in contestPredictionProbabilities.items()]))\n",
    "\n",
    "result = suffledResult[[\"id\"] + categories]"
   ]
  },
  {
   "cell_type": "code",
   "execution_count": 44,
   "metadata": {},
   "outputs": [
    {
     "data": {
      "text/html": [
       "<div>\n",
       "<style scoped>\n",
       "    .dataframe tbody tr th:only-of-type {\n",
       "        vertical-align: middle;\n",
       "    }\n",
       "\n",
       "    .dataframe tbody tr th {\n",
       "        vertical-align: top;\n",
       "    }\n",
       "\n",
       "    .dataframe thead th {\n",
       "        text-align: right;\n",
       "    }\n",
       "</style>\n",
       "<table border=\"1\" class=\"dataframe\">\n",
       "  <thead>\n",
       "    <tr style=\"text-align: right;\">\n",
       "      <th></th>\n",
       "      <th>id</th>\n",
       "      <th>toxic</th>\n",
       "      <th>severe_toxic</th>\n",
       "      <th>obscene</th>\n",
       "      <th>threat</th>\n",
       "      <th>insult</th>\n",
       "      <th>identity_hate</th>\n",
       "    </tr>\n",
       "  </thead>\n",
       "  <tbody>\n",
       "    <tr>\n",
       "      <th>0</th>\n",
       "      <td>00001cee341fdb12</td>\n",
       "      <td>0.144361</td>\n",
       "      <td>0.123908</td>\n",
       "      <td>0.221225</td>\n",
       "      <td>0.076695</td>\n",
       "      <td>0.149220</td>\n",
       "      <td>0.124009</td>\n",
       "    </tr>\n",
       "    <tr>\n",
       "      <th>1</th>\n",
       "      <td>0000247867823ef7</td>\n",
       "      <td>0.108567</td>\n",
       "      <td>0.090323</td>\n",
       "      <td>0.188991</td>\n",
       "      <td>0.044283</td>\n",
       "      <td>0.139559</td>\n",
       "      <td>0.090474</td>\n",
       "    </tr>\n",
       "    <tr>\n",
       "      <th>2</th>\n",
       "      <td>00013b17ad220c46</td>\n",
       "      <td>0.107743</td>\n",
       "      <td>0.057440</td>\n",
       "      <td>0.136317</td>\n",
       "      <td>0.038321</td>\n",
       "      <td>0.078102</td>\n",
       "      <td>0.057150</td>\n",
       "    </tr>\n",
       "    <tr>\n",
       "      <th>3</th>\n",
       "      <td>00017563c3f7919a</td>\n",
       "      <td>0.124505</td>\n",
       "      <td>0.134712</td>\n",
       "      <td>0.252164</td>\n",
       "      <td>0.060358</td>\n",
       "      <td>0.138578</td>\n",
       "      <td>0.133665</td>\n",
       "    </tr>\n",
       "    <tr>\n",
       "      <th>4</th>\n",
       "      <td>00017695ad8997eb</td>\n",
       "      <td>0.101759</td>\n",
       "      <td>0.080832</td>\n",
       "      <td>0.183596</td>\n",
       "      <td>0.036246</td>\n",
       "      <td>0.103686</td>\n",
       "      <td>0.080453</td>\n",
       "    </tr>\n",
       "  </tbody>\n",
       "</table>\n",
       "</div>"
      ],
      "text/plain": [
       "                 id     toxic  severe_toxic   obscene    threat    insult  \\\n",
       "0  00001cee341fdb12  0.144361      0.123908  0.221225  0.076695  0.149220   \n",
       "1  0000247867823ef7  0.108567      0.090323  0.188991  0.044283  0.139559   \n",
       "2  00013b17ad220c46  0.107743      0.057440  0.136317  0.038321  0.078102   \n",
       "3  00017563c3f7919a  0.124505      0.134712  0.252164  0.060358  0.138578   \n",
       "4  00017695ad8997eb  0.101759      0.080832  0.183596  0.036246  0.103686   \n",
       "\n",
       "   identity_hate  \n",
       "0       0.124009  \n",
       "1       0.090474  \n",
       "2       0.057150  \n",
       "3       0.133665  \n",
       "4       0.080453  "
      ]
     },
     "execution_count": 44,
     "metadata": {},
     "output_type": "execute_result"
    }
   ],
   "source": [
    "result.head()"
   ]
  },
  {
   "cell_type": "code",
   "execution_count": 45,
   "metadata": {},
   "outputs": [],
   "source": [
    "result.to_csv(\"./submissions/w2v-then-rnn.csv\", index=False)"
   ]
  },
  {
   "cell_type": "markdown",
   "metadata": {},
   "source": [
    "## Evaluate on test data"
   ]
  },
  {
   "cell_type": "code",
   "execution_count": 20,
   "metadata": {},
   "outputs": [
    {
     "data": {
      "image/png": "[encoded data removed]",
      "text/plain": [
       "<matplotlib.figure.Figure at 0x7fa009fe01d0>"
      ]
     },
     "metadata": {},
     "output_type": "display_data"
    }
   ],
   "source": [
    "import matplotlib.pyplot as plt\n",
    "plt.plot([value for key, value in printAucCallback.listOfAucs])\n",
    "\n",
    "plt.ylabel(\"Area under ROC\")\n",
    "plt.xlabel(\"Epoch\")\n",
    "plt.show()"
   ]
  },
  {
   "cell_type": "code",
   "execution_count": 21,
   "metadata": {
    "scrolled": false
   },
   "outputs": [
    {
     "data": {
      "text/html": [
       "<div style='font-weight:bold'>Confusion Matrix :</div>"
      ],
      "text/plain": [
       "<IPython.core.display.HTML object>"
      ]
     },
     "metadata": {},
     "output_type": "display_data"
    },
    {
     "name": "stdout",
     "output_type": "stream",
     "text": [
      "           P Neutral  P Toxic\n",
      "T Neutral       8997       24\n",
      "T Toxic          929       50\n"
     ]
    },
    {
     "data": {
      "text/html": [
       "<div style='font-weight:bold'>Relativized Confusion Matrix :</div>"
      ],
      "text/plain": [
       "<IPython.core.display.HTML object>"
      ]
     },
     "metadata": {},
     "output_type": "display_data"
    },
    {
     "name": "stdout",
     "output_type": "stream",
     "text": [
      "           P Neutral  P Toxic\n",
      "T Neutral     0.8997   0.0024\n",
      "T Toxic       0.0929   0.0050\n"
     ]
    },
    {
     "data": {
      "text/html": [
       "<div style='font-weight:bold'>F1 score :</div>"
      ],
      "text/plain": [
       "<IPython.core.display.HTML object>"
      ]
     },
     "metadata": {},
     "output_type": "display_data"
    },
    {
     "name": "stdout",
     "output_type": "stream",
     "text": [
      "0.095\n"
     ]
    },
    {
     "data": {
      "text/html": [
       "<div style='font-weight:bold'>Logarithmic loss :</div>"
      ],
      "text/plain": [
       "<IPython.core.display.HTML object>"
      ]
     },
     "metadata": {},
     "output_type": "display_data"
    },
    {
     "name": "stdout",
     "output_type": "stream",
     "text": [
      "0.2795\n"
     ]
    },
    {
     "data": {
      "text/html": [
       "<div style='font-weight:bold'>Area under ROC :</div>"
      ],
      "text/plain": [
       "<IPython.core.display.HTML object>"
      ]
     },
     "metadata": {},
     "output_type": "display_data"
    },
    {
     "data": {
      "text/html": [
       "<div style='font-weight:bold; color:red'>0.7584113405119073</div>"
      ],
      "text/plain": [
       "<IPython.core.display.HTML object>"
      ]
     },
     "metadata": {},
     "output_type": "display_data"
    },
    {
     "data": {
      "image/png": "[encoded data removed]",
      "text/plain": [
       "<matplotlib.figure.Figure at 0x7fa009fe02b0>"
      ]
     },
     "metadata": {},
     "output_type": "display_data"
    }
   ],
   "source": [
    "from evaluate_predictions import evaluatePredictions\n",
    "\n",
    "predictions = model.predict(testSentences, batch_size=batchSize)\n",
    "binaryPredictions = np.where(predictions[:, 1] > 0.5, 1, 0)\n",
    "labels = testLabels[:, 1]\n",
    "\n",
    "evaluatePredictions(pd.Series(labels), binaryPredictions, predictions)"
   ]
  }
 ],
 "metadata": {
  "kernelspec": {
   "display_name": "Python 3",
   "language": "python",
   "name": "python3"
  },
  "language_info": {
   "codemirror_mode": {
    "name": "ipython",
    "version": 3
   },
   "file_extension": ".py",
   "mimetype": "text/x-python",
   "name": "python",
   "nbconvert_exporter": "python",
   "pygments_lexer": "ipython3",
   "version": "3.6.2"
  }
 },
 "nbformat": 4,
 "nbformat_minor": 1
}
