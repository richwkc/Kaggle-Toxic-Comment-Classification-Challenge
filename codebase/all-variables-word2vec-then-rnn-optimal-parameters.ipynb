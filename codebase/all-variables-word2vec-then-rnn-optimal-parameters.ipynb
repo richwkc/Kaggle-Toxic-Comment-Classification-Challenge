{
 "cells": [
  {
   "cell_type": "markdown",
   "metadata": {},
   "source": [
    "# Word2Vec then RNN"
   ]
  },
  {
   "cell_type": "markdown",
   "metadata": {},
   "source": [
    "## Imports and setting up TensorBoard"
   ]
  },
  {
   "cell_type": "code",
   "execution_count": 8,
   "metadata": {},
   "outputs": [
    {
     "name": "stdout",
     "output_type": "stream",
     "text": [
      "[name: \"/cpu:0\"\n",
      "device_type: \"CPU\"\n",
      "memory_limit: 268435456\n",
      "locality {\n",
      "}\n",
      "incarnation: 3012059913321078016\n",
      "]\n"
     ]
    }
   ],
   "source": [
    "from data_preparation import *\n",
    "import tensorflow as tf\n",
    "from keras.models import Sequential\n",
    "from keras.layers import LSTM, Dense, Bidirectional, TimeDistributed, Dropout, Embedding\n",
    "from keras.optimizers import Adam\n",
    "from keras_train_helper import tfauc, rotateTensorboardLogs, PrintAucCallback, plotLearningCurve\n",
    "from keras.regularizers import L1L2\n",
    "from tensorflow.python.client import device_lib\n",
    "from keras.callbacks import TensorBoard\n",
    "\n",
    "tensorBoardCallback = TensorBoard(log_dir=\"../tb-logs\")\n",
    "print(device_lib.list_local_devices())"
   ]
  },
  {
   "cell_type": "markdown",
   "metadata": {},
   "source": [
    "## Loading data and setting up preprocessing tools"
   ]
  },
  {
   "cell_type": "code",
   "execution_count": 2,
   "metadata": {},
   "outputs": [
    {
     "name": "stdout",
     "output_type": "stream",
     "text": [
      "Loading datasets...\n",
      "train: (127656, 8), test: (31915, 8), allData: (159571, 8), contestTest: (153164, 2)\n"
     ]
    }
   ],
   "source": [
    "train, test, allData, contestTest = loadData()"
   ]
  },
  {
   "cell_type": "markdown",
   "metadata": {},
   "source": [
    "### Split sentences and apply word correction & splitting"
   ]
  },
  {
   "cell_type": "code",
   "execution_count": 3,
   "metadata": {
    "scrolled": true
   },
   "outputs": [
    {
     "name": "stdout",
     "output_type": "stream",
     "text": [
      "Splitting sentences...\n",
      "CPU times: user 14.9 s, sys: 584 ms, total: 15.5 s\n",
      "Wall time: 15.5 s\n"
     ]
    }
   ],
   "source": [
    "%%time\n",
    "from sklearn.pipeline import Pipeline\n",
    "\n",
    "maxSeqLength = 250\n",
    "\n",
    "splitter = SentenceSplitter(\"comment_text\")\n",
    "wordEmbedding = loadWordEmbedding(\"../../state/external-models/glove.6B/saved-2300.bin\")\n",
    "\n",
    "allWords = splitter.transform(pd.concat([allData, contestTest]))\n",
    "textWords = set([word for sentence in allWords for word in sentence])\n",
    "missingWords = textWords - set(list(wordEmbedding.vocab.keys()))\n",
    "\n",
    "missingWordsResolutionDict = loadObject(\"./missingWordsResolution.plk\")\n",
    "missingWordsResolver = MissingWordsResolver(missingWordsResolutionDict, missingWords)\n",
    "\n",
    "splittingPipeline = Pipeline(steps=[\n",
    "    (\"split\", splitter),\n",
    "    (\"resolveMissingWords\", missingWordsResolver) ])"
   ]
  },
  {
   "cell_type": "markdown",
   "metadata": {},
   "source": [
    "### W2I and zero padding"
   ]
  },
  {
   "cell_type": "code",
   "execution_count": 4,
   "metadata": {},
   "outputs": [
    {
     "name": "stdout",
     "output_type": "stream",
     "text": [
      "Resolving missing words...\n",
      "Loading w2i and i2w dictionaries...\n",
      "CPU times: user 8.27 s, sys: 88 ms, total: 8.36 s\n",
      "Wall time: 8.36 s\n"
     ]
    }
   ],
   "source": [
    "%%time\n",
    "resolvedWords = missingWordsResolver.transform(allWords)\n",
    "\n",
    "w2i = Word2Int(resolvedWords)\n",
    "zeroPadder = ZeroPadder(maxSeqLength)\n",
    "\n",
    "indexingPipeline = Pipeline(steps=[\n",
    "    (\"w2i\", w2i),\n",
    "    (\"zeroPadding\", zeroPadder)\n",
    "])"
   ]
  },
  {
   "cell_type": "code",
   "execution_count": 5,
   "metadata": {},
   "outputs": [],
   "source": [
    "preparationPipeline = Pipeline(steps=[\n",
    "    (\"splittingPipeline\", splittingPipeline),\n",
    "    (\"indexingPipeline\", indexingPipeline)\n",
    "])"
   ]
  },
  {
   "cell_type": "markdown",
   "metadata": {},
   "source": [
    "### W2V"
   ]
  },
  {
   "cell_type": "code",
   "execution_count": 6,
   "metadata": {},
   "outputs": [
    {
     "name": "stdout",
     "output_type": "stream",
     "text": [
      "Loading word2vec dictionary...\n",
      "CPU times: user 80 ms, sys: 0 ns, total: 80 ms\n",
      "Wall time: 79.4 ms\n"
     ]
    }
   ],
   "source": [
    "%%time\n",
    "w2v = Word2Vec(wordEmbedding, 300, w2i.i2w, seed=4324)"
   ]
  },
  {
   "cell_type": "code",
   "execution_count": 7,
   "metadata": {},
   "outputs": [],
   "source": [
    "embeddingMatrix, i2v = w2v.embeddingMatrix()"
   ]
  },
  {
   "cell_type": "markdown",
   "metadata": {},
   "source": [
    "## Define the model"
   ]
  },
  {
   "cell_type": "markdown",
   "metadata": {},
   "source": [
    "### Define the model"
   ]
  },
  {
   "cell_type": "code",
   "execution_count": 10,
   "metadata": {},
   "outputs": [],
   "source": [
    "lstmUnits = 100\n",
    "numClasses = 2\n",
    "batchSize = 1024\n",
    "\n",
    "def defineModel(dropout, recurrent_dropout):\n",
    "    model = Sequential()\n",
    "\n",
    "    model.add(Embedding(\n",
    "        embeddingMatrix.shape[0],\n",
    "        embeddingMatrix.shape[1],\n",
    "        weights=[embeddingMatrix],\n",
    "        input_length=maxSeqLength,\n",
    "        trainable=False))\n",
    "\n",
    "    model.add(Bidirectional(LSTM(\n",
    "        lstmUnits, \n",
    "        dropout=dropout, \n",
    "        recurrent_dropout=recurrent_dropout, \n",
    "        bias_regularizer=L1L2(l1=0.01, l2=0.01),\n",
    "        name=\"LSTM\")))\n",
    "\n",
    "    model.add(Dense(\n",
    "        2, \n",
    "        activation=\"softmax\", \n",
    "        name=\"softmax_output\"))\n",
    "    \n",
    "    model.compile(\n",
    "        loss=\"categorical_crossentropy\", \n",
    "        optimizer=\"nadam\", \n",
    "        metrics=[tfauc])\n",
    "\n",
    "    print(model.summary())\n",
    "    return model"
   ]
  },
  {
   "cell_type": "markdown",
   "metadata": {},
   "source": [
    "## Prepare data and train the model"
   ]
  },
  {
   "cell_type": "code",
   "execution_count": 11,
   "metadata": {},
   "outputs": [],
   "source": [
    "def fitModel(model, trainDataset, testDataset, printAucCallback, label, epochs, fast=False):\n",
    "    print(\"Training model for target variable: {}\".format(label))\n",
    "    \n",
    "    tf.set_random_seed(43245)\n",
    "    np.random.seed(453252)\n",
    "    \n",
    "    labelizer = Labelizer(label)\n",
    "    oversampler = Oversampler(label)\n",
    "    \n",
    "    trainOversampled = oversampler.transform(trainDataset)\n",
    "\n",
    "    trainSentences = preparationPipeline.transform(trainOversampled)\n",
    "    trainLabels = labelizer.transform(trainOversampled)\n",
    "    testSentences = preparationPipeline.transform(testDataset)\n",
    "    testLabels = labelizer.transform(testDataset)\n",
    "\n",
    "    printAucCallback.setDatasets([trainSentences, trainLabels], [testSentences, testLabels])\n",
    "\n",
    "    model.fit(\n",
    "        trainSentences, \n",
    "        trainLabels, \n",
    "        nb_epoch=epochs, \n",
    "        batch_size=batchSize,\n",
    "        callbacks=[] if fast else [tensorBoardCallback, printAucCallback])\n",
    "    \n",
    "    return model, testSentences, testLabels"
   ]
  },
  {
   "cell_type": "code",
   "execution_count": 12,
   "metadata": {
    "scrolled": false
   },
   "outputs": [
    {
     "name": "stdout",
     "output_type": "stream",
     "text": [
      "_________________________________________________________________\n",
      "Layer (type)                 Output Shape              Param #   \n",
      "=================================================================\n",
      "embedding_1 (Embedding)      (None, 250, 300)          59772900  \n",
      "_________________________________________________________________\n",
      "bidirectional_1 (Bidirection (None, 200)               320800    \n",
      "_________________________________________________________________\n",
      "softmax_output (Dense)       (None, 2)                 402       \n",
      "=================================================================\n",
      "Total params: 60,094,102\n",
      "Trainable params: 321,202\n",
      "Non-trainable params: 59,772,900\n",
      "_________________________________________________________________\n",
      "None\n",
      "Training model for target variable: toxic\n",
      "Oversampling...\n",
      "Splitting sentences...\n",
      "Resolving missing words...\n",
      "Converting words to integers...\n",
      "Zero-padding...\n",
      "Splitting sentences...\n",
      "Resolving missing words...\n",
      "Converting words to integers...\n",
      "Zero-padding...\n"
     ]
    },
    {
     "name": "stderr",
     "output_type": "stream",
     "text": [
      "/home/mariosk/anaconda2/envs/ipykernel_py3/lib/python3.6/site-packages/keras/models.py:944: UserWarning: The `nb_epoch` argument in `fit` has been renamed `epochs`.\n",
      "  warnings.warn('The `nb_epoch` argument in `fit` '\n"
     ]
    },
    {
     "name": "stdout",
     "output_type": "stream",
     "text": [
      "Epoch 1/2\n",
      "1024/1890 [===============>..............] - ETA: 12s - loss: 2.7405 - tfauc: 0.5171 - train auc: 0.7925\n",
      " - test auc: 0.7598\n"
     ]
    },
    {
     "data": {
      "image/png": "[encoded data removed]",
      "text/plain": [
       "<matplotlib.figure.Figure at 0x7fc346f97cc0>"
      ]
     },
     "metadata": {},
     "output_type": "display_data"
    },
    {
     "name": "stdout",
     "output_type": "stream",
     "text": [
      "1890/1890 [==============================] - 36s 19ms/step - loss: 2.7964 - tfauc: 0.5176\n",
      "Epoch 2/2\n",
      "1024/1890 [===============>..............] - ETA: 12s - loss: 2.6980 - tfauc: 0.5440 - train auc: 0.8267\n",
      " - test auc: 0.7810\n"
     ]
    },
    {
     "data": {
      "image/png": "[encoded data removed]",
      "text/plain": [
       "<matplotlib.figure.Figure at 0x7fc346365550>"
      ]
     },
     "metadata": {},
     "output_type": "display_data"
    },
    {
     "name": "stdout",
     "output_type": "stream",
     "text": [
      "1890/1890 [==============================] - 37s 19ms/step - loss: 2.6604 - tfauc: 0.5557\n",
      "CPU times: user 4min 24s, sys: 15.4 s, total: 4min 39s\n",
      "Wall time: 1min 17s\n"
     ]
    }
   ],
   "source": [
    "%%time\n",
    "model = defineModel(0.6, 0.2)\n",
    "printAucCallback = PrintAucCallback(8192, printFrequency=0.02)\n",
    "\n",
    "model, testSentences, testLabels = fitModel(model, train, test, printAucCallback, \"toxic\", 20)"
   ]
  },
  {
   "cell_type": "markdown",
   "metadata": {},
   "source": [
    "## Compare train and test data"
   ]
  },
  {
   "cell_type": "code",
   "execution_count": 13,
   "metadata": {},
   "outputs": [
    {
     "data": {
      "image/png": "[encoded data removed]",
      "text/plain": [
       "<matplotlib.figure.Figure at 0x7fc359127e80>"
      ]
     },
     "metadata": {},
     "output_type": "display_data"
    }
   ],
   "source": [
    "plotLearningCurve(printAucCallback.listOfAucsTrain, printAucCallback.listOfAucsTest)"
   ]
  },
  {
   "cell_type": "code",
   "execution_count": 14,
   "metadata": {
    "scrolled": false
   },
   "outputs": [
    {
     "data": {
      "text/html": [
       "<div style='font-weight:bold'>Confusion Matrix :</div>"
      ],
      "text/plain": [
       "<IPython.core.display.HTML object>"
      ]
     },
     "metadata": {},
     "output_type": "display_data"
    },
    {
     "name": "stdout",
     "output_type": "stream",
     "text": [
      "           P Neutral  P Toxic\n",
      "T Neutral        556      341\n",
      "T Toxic           21       82\n"
     ]
    },
    {
     "data": {
      "text/html": [
       "<div style='font-weight:bold'>Relativized Confusion Matrix :</div>"
      ],
      "text/plain": [
       "<IPython.core.display.HTML object>"
      ]
     },
     "metadata": {},
     "output_type": "display_data"
    },
    {
     "name": "stdout",
     "output_type": "stream",
     "text": [
      "           P Neutral  P Toxic\n",
      "T Neutral      0.556    0.341\n",
      "T Toxic        0.021    0.082\n"
     ]
    },
    {
     "data": {
      "text/html": [
       "<div style='font-weight:bold'>F1 score :</div>"
      ],
      "text/plain": [
       "<IPython.core.display.HTML object>"
      ]
     },
     "metadata": {},
     "output_type": "display_data"
    },
    {
     "name": "stdout",
     "output_type": "stream",
     "text": [
      "0.312\n"
     ]
    },
    {
     "data": {
      "text/html": [
       "<div style='font-weight:bold'>Logarithmic loss :</div>"
      ],
      "text/plain": [
       "<IPython.core.display.HTML object>"
      ]
     },
     "metadata": {},
     "output_type": "display_data"
    },
    {
     "name": "stdout",
     "output_type": "stream",
     "text": [
      "0.7126\n"
     ]
    },
    {
     "data": {
      "text/html": [
       "<div style='font-weight:bold'>Area under ROC :</div>"
      ],
      "text/plain": [
       "<IPython.core.display.HTML object>"
      ]
     },
     "metadata": {},
     "output_type": "display_data"
    },
    {
     "data": {
      "text/html": [
       "<div style='font-weight:bold; color:red'>0.7810392787176239</div>"
      ],
      "text/plain": [
       "<IPython.core.display.HTML object>"
      ]
     },
     "metadata": {},
     "output_type": "display_data"
    },
    {
     "data": {
      "image/png": "[encoded data removed]",
      "text/plain": [
       "<matplotlib.figure.Figure at 0x7fc34668c198>"
      ]
     },
     "metadata": {},
     "output_type": "display_data"
    }
   ],
   "source": [
    "from evaluate_predictions import evaluatePredictions\n",
    "\n",
    "predictions = model.predict(testSentences, batch_size=4*batchSize)\n",
    "binaryPredictions = np.where(predictions[:, 1] > 0.5, 1, 0)\n",
    "labels = testLabels[:, 1]\n",
    "\n",
    "evaluatePredictions(pd.Series(labels), binaryPredictions, predictions)"
   ]
  },
  {
   "cell_type": "markdown",
   "metadata": {},
   "source": [
    "## Run on all data and export submission"
   ]
  },
  {
   "cell_type": "code",
   "execution_count": null,
   "metadata": {
    "scrolled": true
   },
   "outputs": [],
   "source": [
    "%%time\n",
    "contestModels = [\n",
    "    fitModel(defineModel(dropout, recurrent_dropout), allData, test, PrintAucCallback(8192, printFrequency=0.02), label, epochs, fast=True)\n",
    "    for (label, epochs)\n",
    "    in [(\"toxic\", 6, 0.6, 0.2), \n",
    "        (\"severe_toxic\", 1, 0.6, 0.2), \n",
    "        (\"obscene\", 3, 0.6, 0.2), \n",
    "        (\"threat\", 2, 0.8, 0.3), \n",
    "        (\"insult\", 2, 0.6, 0.2), \n",
    "        (\"identity_hate\", 1, 0.6, 0.2)]]"
   ]
  },
  {
   "cell_type": "code",
   "execution_count": null,
   "metadata": {
    "scrolled": true
   },
   "outputs": [],
   "source": [
    "%%time\n",
    "categories = [\"toxic\", \"severe_toxic\", \"obscene\", \"threat\", \"insult\", \"identity_hate\"]\n",
    "contestPredictionProbabilities = {\n",
    "    category: model[0].predict(preparationPipeline.transform(contestTest), batch_size=8192) \n",
    "    for (category, model) in zip(categories, contestModels)}"
   ]
  },
  {
   "cell_type": "code",
   "execution_count": 33,
   "metadata": {},
   "outputs": [],
   "source": [
    "suffledResult = pd.DataFrame(dict(\n",
    "    [(\"id\", contestTest.id)] \n",
    "    + [(name, preds[:, 1]) for (name, preds) in contestPredictionProbabilities.items()]))\n",
    "\n",
    "result = suffledResult[[\"id\"] + categories]"
   ]
  },
  {
   "cell_type": "code",
   "execution_count": 34,
   "metadata": {},
   "outputs": [
    {
     "data": {
      "text/html": [
       "<div>\n",
       "<style scoped>\n",
       "    .dataframe tbody tr th:only-of-type {\n",
       "        vertical-align: middle;\n",
       "    }\n",
       "\n",
       "    .dataframe tbody tr th {\n",
       "        vertical-align: top;\n",
       "    }\n",
       "\n",
       "    .dataframe thead th {\n",
       "        text-align: right;\n",
       "    }\n",
       "</style>\n",
       "<table border=\"1\" class=\"dataframe\">\n",
       "  <thead>\n",
       "    <tr style=\"text-align: right;\">\n",
       "      <th></th>\n",
       "      <th>id</th>\n",
       "      <th>toxic</th>\n",
       "      <th>severe_toxic</th>\n",
       "      <th>obscene</th>\n",
       "      <th>threat</th>\n",
       "      <th>insult</th>\n",
       "      <th>identity_hate</th>\n",
       "    </tr>\n",
       "  </thead>\n",
       "  <tbody>\n",
       "    <tr>\n",
       "      <th>0</th>\n",
       "      <td>00001cee341fdb12</td>\n",
       "      <td>0.107428</td>\n",
       "      <td>0.086610</td>\n",
       "      <td>0.179781</td>\n",
       "      <td>0.043975</td>\n",
       "      <td>0.104099</td>\n",
       "      <td>0.086608</td>\n",
       "    </tr>\n",
       "    <tr>\n",
       "      <th>1</th>\n",
       "      <td>0000247867823ef7</td>\n",
       "      <td>0.147077</td>\n",
       "      <td>0.124943</td>\n",
       "      <td>0.256728</td>\n",
       "      <td>0.045869</td>\n",
       "      <td>0.097912</td>\n",
       "      <td>0.125053</td>\n",
       "    </tr>\n",
       "    <tr>\n",
       "      <th>2</th>\n",
       "      <td>00013b17ad220c46</td>\n",
       "      <td>0.144134</td>\n",
       "      <td>0.122432</td>\n",
       "      <td>0.231361</td>\n",
       "      <td>0.073960</td>\n",
       "      <td>0.156137</td>\n",
       "      <td>0.122611</td>\n",
       "    </tr>\n",
       "    <tr>\n",
       "      <th>3</th>\n",
       "      <td>00017563c3f7919a</td>\n",
       "      <td>0.094946</td>\n",
       "      <td>0.076373</td>\n",
       "      <td>0.186833</td>\n",
       "      <td>0.022637</td>\n",
       "      <td>0.050725</td>\n",
       "      <td>0.076566</td>\n",
       "    </tr>\n",
       "    <tr>\n",
       "      <th>4</th>\n",
       "      <td>00017695ad8997eb</td>\n",
       "      <td>0.105768</td>\n",
       "      <td>0.083794</td>\n",
       "      <td>0.182512</td>\n",
       "      <td>0.037039</td>\n",
       "      <td>0.066183</td>\n",
       "      <td>0.083650</td>\n",
       "    </tr>\n",
       "  </tbody>\n",
       "</table>\n",
       "</div>"
      ],
      "text/plain": [
       "                 id     toxic  severe_toxic   obscene    threat    insult  \\\n",
       "0  00001cee341fdb12  0.107428      0.086610  0.179781  0.043975  0.104099   \n",
       "1  0000247867823ef7  0.147077      0.124943  0.256728  0.045869  0.097912   \n",
       "2  00013b17ad220c46  0.144134      0.122432  0.231361  0.073960  0.156137   \n",
       "3  00017563c3f7919a  0.094946      0.076373  0.186833  0.022637  0.050725   \n",
       "4  00017695ad8997eb  0.105768      0.083794  0.182512  0.037039  0.066183   \n",
       "\n",
       "   identity_hate  \n",
       "0       0.086608  \n",
       "1       0.125053  \n",
       "2       0.122611  \n",
       "3       0.076566  \n",
       "4       0.083650  "
      ]
     },
     "execution_count": 34,
     "metadata": {},
     "output_type": "execute_result"
    }
   ],
   "source": [
    "result.head()"
   ]
  },
  {
   "cell_type": "code",
   "execution_count": null,
   "metadata": {},
   "outputs": [],
   "source": [
    "result.shape"
   ]
  },
  {
   "cell_type": "code",
   "execution_count": 45,
   "metadata": {},
   "outputs": [],
   "source": [
    "result.to_csv(\"./submissions/w2v-then-rnn-increased-dropout.csv\", index=False)"
   ]
  }
 ],
 "metadata": {
  "kernelspec": {
   "display_name": "Python 3",
   "language": "python",
   "name": "python3"
  },
  "language_info": {
   "codemirror_mode": {
    "name": "ipython",
    "version": 3
   },
   "file_extension": ".py",
   "mimetype": "text/x-python",
   "name": "python",
   "nbconvert_exporter": "python",
   "pygments_lexer": "ipython3",
   "version": "3.6.2"
  }
 },
 "nbformat": 4,
 "nbformat_minor": 1
}
