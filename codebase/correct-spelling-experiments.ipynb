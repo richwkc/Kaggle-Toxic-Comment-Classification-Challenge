{
 "cells": [
  {
   "cell_type": "markdown",
   "metadata": {},
   "source": [
    "# Split long words and correct spelling on small ones (<=15 characters)"
   ]
  },
  {
   "cell_type": "code",
   "execution_count": 1,
   "metadata": {},
   "outputs": [],
   "source": [
    "from gensim.models.keyedvectors import KeyedVectors\n",
    "import pandas as pd\n",
    "from data_preparation import loadData, SentenceSplitter"
   ]
  },
  {
   "cell_type": "markdown",
   "metadata": {},
   "source": [
    "## Load text words"
   ]
  },
  {
   "cell_type": "code",
   "execution_count": 2,
   "metadata": {},
   "outputs": [
    {
     "name": "stdout",
     "output_type": "stream",
     "text": [
      "Loading datasets...\n",
      "train: (127656, 8), test: (31915, 8), allData: (159571, 8), contestTest: (153164, 2)\n"
     ]
    }
   ],
   "source": [
    "_, _, allData, _ = loadData()"
   ]
  },
  {
   "cell_type": "code",
   "execution_count": 3,
   "metadata": {},
   "outputs": [
    {
     "name": "stdout",
     "output_type": "stream",
     "text": [
      "Splitting sentences...\n"
     ]
    }
   ],
   "source": [
    "data = SentenceSplitter(\"comment_text\").transform(allData)"
   ]
  },
  {
   "cell_type": "code",
   "execution_count": 4,
   "metadata": {},
   "outputs": [],
   "source": [
    "textWords = set([word for sentence in data for word in sentence])"
   ]
  },
  {
   "cell_type": "markdown",
   "metadata": {},
   "source": [
    "## Load small embedding"
   ]
  },
  {
   "cell_type": "code",
   "execution_count": 6,
   "metadata": {},
   "outputs": [],
   "source": [
    "embedding = KeyedVectors.load(\"../../state/external-models/glove.6B/saved-2300.bin\", mmap=\"r\")"
   ]
  },
  {
   "cell_type": "code",
   "execution_count": 7,
   "metadata": {},
   "outputs": [],
   "source": [
    "embeddingWords = embedding.vocab.keys()"
   ]
  },
  {
   "cell_type": "code",
   "execution_count": 8,
   "metadata": {},
   "outputs": [
    {
     "data": {
      "text/plain": [
       "2196016"
      ]
     },
     "execution_count": 8,
     "metadata": {},
     "output_type": "execute_result"
    }
   ],
   "source": [
    "len(embeddingWords)"
   ]
  },
  {
   "cell_type": "markdown",
   "metadata": {},
   "source": [
    "## Missing words count and distribution"
   ]
  },
  {
   "cell_type": "code",
   "execution_count": 9,
   "metadata": {},
   "outputs": [
    {
     "name": "stdout",
     "output_type": "stream",
     "text": [
      "Missing 123736 words out of total 223966 words. This is 55% of the words!\n"
     ]
    }
   ],
   "source": [
    "missingWords = textWords - embeddingWords\n",
    "print(\"Missing {} words out of total {} words. This is {}% of the words!\".format(\n",
    "    len(missingWords), \n",
    "    len(textWords),\n",
    "    int(len(missingWords) / len(textWords) * 100)))"
   ]
  },
  {
   "cell_type": "code",
   "execution_count": 10,
   "metadata": {},
   "outputs": [
    {
     "data": {
      "image/png": "[encoded data removed]",
      "text/plain": [
       "<matplotlib.figure.Figure at 0x7f3f9f16bd68>"
      ]
     },
     "metadata": {},
     "output_type": "display_data"
    }
   ],
   "source": [
    "import matplotlib.pyplot as plt\n",
    "\n",
    "plt.boxplot([len(word) for word in missingWords])\n",
    "\n",
    "plt.show()"
   ]
  },
  {
   "cell_type": "code",
   "execution_count": 11,
   "metadata": {},
   "outputs": [
    {
     "data": {
      "text/plain": [
       "13"
      ]
     },
     "execution_count": 11,
     "metadata": {},
     "output_type": "execute_result"
    }
   ],
   "source": [
    "len([word for word in missingWords if len(word) >= 1000])"
   ]
  },
  {
   "cell_type": "code",
   "execution_count": 12,
   "metadata": {},
   "outputs": [
    {
     "data": {
      "image/png": "[encoded data removed]",
      "text/plain": [
       "<matplotlib.figure.Figure at 0x7f3fd101c588>"
      ]
     },
     "metadata": {},
     "output_type": "display_data"
    }
   ],
   "source": [
    "plt.hist([len(word) for word in missingWords if len(word) < 1000], bins=100)\n",
    "\n",
    "plt.show()"
   ]
  },
  {
   "cell_type": "code",
   "execution_count": 13,
   "metadata": {
    "scrolled": true
   },
   "outputs": [
    {
     "data": {
      "text/plain": [
       "317"
      ]
     },
     "execution_count": 13,
     "metadata": {},
     "output_type": "execute_result"
    }
   ],
   "source": [
    "len([word for word in missingWords if len(word) >= 100])"
   ]
  },
  {
   "cell_type": "code",
   "execution_count": 14,
   "metadata": {},
   "outputs": [
    {
     "data": {
      "text/plain": [
       "100"
      ]
     },
     "execution_count": 14,
     "metadata": {},
     "output_type": "execute_result"
    }
   ],
   "source": [
    "# This is how large an 100 char word is!!\n",
    "len(\"sgfdgfdglgdsgfdggfdgghdggsdggfdhgfdfdggfdghgsafldsfdsfdsfdsfdsfdsfdsffdssafsFEGFFDGFDSGFDgfdgfdsfdsf\")"
   ]
  },
  {
   "cell_type": "code",
   "execution_count": 15,
   "metadata": {},
   "outputs": [
    {
     "data": {
      "text/plain": [
       "24"
      ]
     },
     "execution_count": 15,
     "metadata": {},
     "output_type": "execute_result"
    }
   ],
   "source": [
    "# This is a 24 char word\n",
    "len(\"Pozessorgeschwindichkeit\")"
   ]
  },
  {
   "cell_type": "code",
   "execution_count": 16,
   "metadata": {},
   "outputs": [
    {
     "data": {
      "image/png": "[encoded data removed]",
      "text/plain": [
       "<matplotlib.figure.Figure at 0x7f3fcd7a0d30>"
      ]
     },
     "metadata": {},
     "output_type": "display_data"
    }
   ],
   "source": [
    "plt.hist([len(word) for word in missingWords if len(word) < 100], bins=100)\n",
    "\n",
    "plt.show()"
   ]
  },
  {
   "cell_type": "code",
   "execution_count": 17,
   "metadata": {},
   "outputs": [
    {
     "data": {
      "text/plain": [
       "0.9044013060063361"
      ]
     },
     "execution_count": 17,
     "metadata": {},
     "output_type": "execute_result"
    }
   ],
   "source": [
    "len([len(word) for word in missingWords if len(word) < 20]) / len(missingWords)"
   ]
  },
  {
   "cell_type": "code",
   "execution_count": 18,
   "metadata": {},
   "outputs": [
    {
     "data": {
      "text/plain": [
       "0.9899640986222322"
      ]
     },
     "execution_count": 18,
     "metadata": {},
     "output_type": "execute_result"
    }
   ],
   "source": [
    "len([len(word) for word in embeddingWords if len(word) < 20]) / len(embeddingWords)"
   ]
  },
  {
   "cell_type": "code",
   "execution_count": 20,
   "metadata": {},
   "outputs": [
    {
     "data": {
      "image/png": "[encoded data removed]",
      "text/plain": [
       "<matplotlib.figure.Figure at 0x7f3fb1e6b080>"
      ]
     },
     "metadata": {},
     "output_type": "display_data"
    }
   ],
   "source": [
    "# Histogram of 'normal' words\n",
    "plt.hist([len(word) for word in embeddingWords if len(word) < 100], bins=100)\n",
    "\n",
    "plt.show()"
   ]
  },
  {
   "cell_type": "code",
   "execution_count": 21,
   "metadata": {},
   "outputs": [
    {
     "data": {
      "text/plain": [
       "['canceladas',\n",
       " 'retourism',\n",
       " 'malignacy',\n",
       " 'fischerqueen',\n",
       " 'fggot',\n",
       " 'talkcoldfusionnewarticle',\n",
       " 'floatright',\n",
       " 'tighina',\n",
       " 'badvista',\n",
       " 'creationalex',\n",
       " 'confifting',\n",
       " 'meaningsuch',\n",
       " 'getligaen',\n",
       " 'owellen',\n",
       " 'antimugabe',\n",
       " 'httppersowanadoofrleuven',\n",
       " 'sameneguy',\n",
       " 'cpurse',\n",
       " 'exmemberscritics',\n",
       " 'cydevil',\n",
       " 'editconservationist',\n",
       " 'machidas',\n",
       " 'gorts',\n",
       " 'wwwhoyhoycom',\n",
       " 'hawash',\n",
       " 'volunteermareks',\n",
       " 'printprint',\n",
       " 'neuralneutral',\n",
       " 'lightankh',\n",
       " 'eljohnson']"
      ]
     },
     "execution_count": 21,
     "metadata": {},
     "output_type": "execute_result"
    }
   ],
   "source": [
    "list(missingWords)[0:30]"
   ]
  },
  {
   "cell_type": "markdown",
   "metadata": {},
   "source": [
    "## Word distance"
   ]
  },
  {
   "cell_type": "code",
   "execution_count": 22,
   "metadata": {},
   "outputs": [],
   "source": [
    "import editdistance"
   ]
  },
  {
   "cell_type": "code",
   "execution_count": 23,
   "metadata": {},
   "outputs": [],
   "source": [
    "def closestEditWord(inputWord, dictionaries):\n",
    "    result = None\n",
    "    for word in dictionaries[len(inputWord)]:\n",
    "        if editdistance.eval(word, inputWord) <= 1:\n",
    "            result = [word]\n",
    "            break\n",
    "    return result"
   ]
  },
  {
   "cell_type": "code",
   "execution_count": 24,
   "metadata": {},
   "outputs": [],
   "source": [
    "cutSize = 15\n",
    "\n",
    "smallWords = [word for word in missingWords if len(word) <= cutSize]\n",
    "largeWords = [word for word in missingWords if len(word) > cutSize]"
   ]
  },
  {
   "cell_type": "code",
   "execution_count": 25,
   "metadata": {},
   "outputs": [],
   "source": [
    "smallEmbeddingWords = [word for word in embeddingWords if len(word) <= 17]"
   ]
  },
  {
   "cell_type": "code",
   "execution_count": 26,
   "metadata": {},
   "outputs": [],
   "source": [
    "dicts = {i: list(filter(lambda w: (len(w) <= i + 1) and (len(w) >= i - 1), smallEmbeddingWords)) for i in range(2, 16) }"
   ]
  },
  {
   "cell_type": "code",
   "execution_count": 75,
   "metadata": {},
   "outputs": [
    {
     "name": "stdout",
     "output_type": "stream",
     "text": [
      "0/103718 words...\n",
      "10/103718 words...\n",
      "20/103718 words...\n",
      "30/103718 words...\n",
      "50/103718 words...\n",
      "40/103718 words...\n",
      "60/103718 words...\n",
      "70/103718 words...\n",
      "80/103718 words...\n",
      "90/103718 words...\n",
      "CPU times: user 40 ms, sys: 172 ms, total: 212 ms\n",
      "Wall time: 28.4 s\n"
     ]
    }
   ],
   "source": [
    "%%time\n",
    "from multiprocessing import Pool\n",
    "\n",
    "def closestWord(indexedWord):\n",
    "    index, word = indexedWord\n",
    "    if index % 1000 == 0:\n",
    "        print(\"{}/{} words...\".format(index, len(smallWords)))\n",
    "        \n",
    "    return (word, closestEditWord(word, dicts))\n",
    "\n",
    "with Pool(processes=4) as pool:\n",
    "    closestWords = pool.map(closestWord, list(enumerate(smallWords)))"
   ]
  },
  {
   "cell_type": "markdown",
   "metadata": {},
   "source": [
    "## Split words without space"
   ]
  },
  {
   "cell_type": "code",
   "execution_count": 77,
   "metadata": {},
   "outputs": [],
   "source": [
    "from math import log\n",
    "wordcost = dict((k, log((i+1)*log(len(embeddingWords)))) for i,k in enumerate(embeddingWords))\n",
    "maxword = max(len(x) for x in embeddingWords)\n",
    "\n",
    "def inferSpaces(s):\n",
    "    \"\"\"Uses dynamic programming to infer the location of spaces in a string\n",
    "    without spaces.\"\"\"\n",
    "\n",
    "    # Find the best match for the i first characters, assuming cost has\n",
    "    # been built for the i-1 first characters.\n",
    "    # Returns a pair (match_cost, match_length).\n",
    "    def best_match(i):\n",
    "        candidates = enumerate(reversed(cost[max(0, i-maxword):i]))\n",
    "        return min((c + wordcost.get(s[i-k-1:i], 9e999), k+1) for k,c in candidates)\n",
    "\n",
    "    # Build the cost array.\n",
    "    cost = [0]\n",
    "    for i in range(1,len(s)+1):\n",
    "        c,k = best_match(i)\n",
    "        cost.append(c)\n",
    "\n",
    "    # Backtrack to recover the minimal-cost string.\n",
    "    out = []\n",
    "    i = len(s)\n",
    "    while i>0:\n",
    "        c,k = best_match(i)\n",
    "        assert c == cost[i]\n",
    "        out.append(s[i-k:i])\n",
    "        i -= k\n",
    "\n",
    "    return list(reversed(out))"
   ]
  },
  {
   "cell_type": "code",
   "execution_count": 90,
   "metadata": {},
   "outputs": [
    {
     "name": "stdout",
     "output_type": "stream",
     "text": [
      "CPU times: user 1min 13s, sys: 12 ms, total: 1min 13s\n",
      "Wall time: 1min 13s\n"
     ]
    }
   ],
   "source": [
    "%%time\n",
    "wordsToSplit = [word[0] for word in closestWords if word[1] == None] + largeWords\n",
    "splitWords = [(word, inferSpaces(word)) for word in wordsToSplit]"
   ]
  },
  {
   "cell_type": "code",
   "execution_count": 92,
   "metadata": {},
   "outputs": [
    {
     "name": "stdout",
     "output_type": "stream",
     "text": [
      "CPU times: user 4 ms, sys: 0 ns, total: 4 ms\n",
      "Wall time: 4.16 ms\n"
     ]
    }
   ],
   "source": [
    "%%time\n",
    "missingWordsResolutionDictionary = dict(splitWords + [word for word in closestWords if word[1] != None])"
   ]
  },
  {
   "cell_type": "code",
   "execution_count": 149,
   "metadata": {},
   "outputs": [],
   "source": [
    "import pickle\n",
    "\n",
    "def saveObject(obj, filepath):\n",
    "    with open(filepath, 'wb') as f:\n",
    "        pickle.dump(obj, f, 0)"
   ]
  },
  {
   "cell_type": "code",
   "execution_count": 150,
   "metadata": {},
   "outputs": [],
   "source": [
    "saveObject(large, \"./missingWordsResolution.plk\")"
   ]
  },
  {
   "cell_type": "code",
   "execution_count": 151,
   "metadata": {},
   "outputs": [],
   "source": [
    "def loadObject(filepath):\n",
    "    with open(filepath, 'rb') as f:\n",
    "        return pickle.load(f)"
   ]
  },
  {
   "cell_type": "code",
   "execution_count": 152,
   "metadata": {},
   "outputs": [],
   "source": [
    "sanityCheck = loadObject(\"./missingWordsResolution.plk\")"
   ]
  }
 ],
 "metadata": {
  "kernelspec": {
   "display_name": "Python 3",
   "language": "python",
   "name": "python3"
  },
  "language_info": {
   "codemirror_mode": {
    "name": "ipython",
    "version": 3
   },
   "file_extension": ".py",
   "mimetype": "text/x-python",
   "name": "python",
   "nbconvert_exporter": "python",
   "pygments_lexer": "ipython3",
   "version": "3.6.2"
  }
 },
 "nbformat": 4,
 "nbformat_minor": 2
}
