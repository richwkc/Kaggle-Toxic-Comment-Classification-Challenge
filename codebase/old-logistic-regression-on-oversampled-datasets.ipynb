{
 "cells": [
  {
   "cell_type": "markdown",
   "metadata": {},
   "source": [
    "# Logistic regression on oversampled datasets"
   ]
  },
  {
   "cell_type": "markdown",
   "metadata": {},
   "source": [
    "## Load datasets"
   ]
  },
  {
   "cell_type": "code",
   "execution_count": 10,
   "metadata": {},
   "outputs": [],
   "source": [
    "import pandas as pd\n",
    "from os import path\n",
    "from scipy.sparse import load_npz\n",
    "\n",
    "dataDirectory = \"./data/preprocessed-train-test\"\n",
    "featuresDirectory = \"./data/features/tf-idf\"\n",
    "labels = [\"toxic\", \"severe_toxic\", \"obscene\", \"threat\", \"insult\", \"identity_hate\"]\n",
    "\n",
    "features = {label: load_npz(path.join(featuresDirectory, \"oversampled-{}-all.npz\".format(label))) \n",
    "            for label in labels}\n",
    "\n",
    "datasets = {label: pd.read_csv(path.join(dataDirectory, \"oversampled-{}-all.csv\".format(label))) \n",
    "            for label in labels}"
   ]
  },
  {
   "cell_type": "code",
   "execution_count": 13,
   "metadata": {},
   "outputs": [],
   "source": [
    "contestTestFeatures = load_npz(path.join(featuresDirectory, \"contest-test.npz\"))\n",
    "contestTest = pd.read_csv(path.join(dataDirectory, \"contest-test.csv\"))"
   ]
  },
  {
   "cell_type": "markdown",
   "metadata": {},
   "source": [
    "## Logistic regression"
   ]
  },
  {
   "cell_type": "code",
   "execution_count": 9,
   "metadata": {},
   "outputs": [],
   "source": [
    "from sklearn.linear_model import LogisticRegression\n",
    "\n",
    "def getLabelPredictions(trainFeature, trainDataset, testFeature, label):\n",
    "    model = LogisticRegression().fit(trainFeature, trainDataset[label])\n",
    "    return model.predict_proba(testFeature)[:, 1]"
   ]
  },
  {
   "cell_type": "code",
   "execution_count": 15,
   "metadata": {},
   "outputs": [],
   "source": [
    "results = pd.DataFrame.from_items( \n",
    "    [(\"id\", contestTest[\"id\"])] \n",
    "    + [(label, getLabelPredictions(features[label], datasets[label], contestTestFeatures, label)) \n",
    "       for label in labels])"
   ]
  },
  {
   "cell_type": "markdown",
   "metadata": {},
   "source": [
    "## Export results"
   ]
  },
  {
   "cell_type": "code",
   "execution_count": 16,
   "metadata": {
    "scrolled": true
   },
   "outputs": [
    {
     "data": {
      "text/html": [
       "<div>\n",
       "<style scoped>\n",
       "    .dataframe tbody tr th:only-of-type {\n",
       "        vertical-align: middle;\n",
       "    }\n",
       "\n",
       "    .dataframe tbody tr th {\n",
       "        vertical-align: top;\n",
       "    }\n",
       "\n",
       "    .dataframe thead th {\n",
       "        text-align: right;\n",
       "    }\n",
       "</style>\n",
       "<table border=\"1\" class=\"dataframe\">\n",
       "  <thead>\n",
       "    <tr style=\"text-align: right;\">\n",
       "      <th></th>\n",
       "      <th>id</th>\n",
       "      <th>toxic</th>\n",
       "      <th>severe_toxic</th>\n",
       "      <th>obscene</th>\n",
       "      <th>threat</th>\n",
       "      <th>insult</th>\n",
       "      <th>identity_hate</th>\n",
       "    </tr>\n",
       "  </thead>\n",
       "  <tbody>\n",
       "    <tr>\n",
       "      <th>0</th>\n",
       "      <td>00001cee341fdb12</td>\n",
       "      <td>0.999985</td>\n",
       "      <td>0.908444</td>\n",
       "      <td>0.999989</td>\n",
       "      <td>0.787636</td>\n",
       "      <td>0.999315</td>\n",
       "      <td>0.969821</td>\n",
       "    </tr>\n",
       "    <tr>\n",
       "      <th>1</th>\n",
       "      <td>0000247867823ef7</td>\n",
       "      <td>0.007931</td>\n",
       "      <td>0.001914</td>\n",
       "      <td>0.002114</td>\n",
       "      <td>0.000236</td>\n",
       "      <td>0.009395</td>\n",
       "      <td>0.009243</td>\n",
       "    </tr>\n",
       "    <tr>\n",
       "      <th>2</th>\n",
       "      <td>00013b17ad220c46</td>\n",
       "      <td>0.096677</td>\n",
       "      <td>0.014633</td>\n",
       "      <td>0.045180</td>\n",
       "      <td>0.003769</td>\n",
       "      <td>0.061378</td>\n",
       "      <td>0.023241</td>\n",
       "    </tr>\n",
       "    <tr>\n",
       "      <th>3</th>\n",
       "      <td>00017563c3f7919a</td>\n",
       "      <td>0.005284</td>\n",
       "      <td>0.007179</td>\n",
       "      <td>0.004339</td>\n",
       "      <td>0.001455</td>\n",
       "      <td>0.006547</td>\n",
       "      <td>0.001070</td>\n",
       "    </tr>\n",
       "    <tr>\n",
       "      <th>4</th>\n",
       "      <td>00017695ad8997eb</td>\n",
       "      <td>0.071303</td>\n",
       "      <td>0.014613</td>\n",
       "      <td>0.027473</td>\n",
       "      <td>0.005728</td>\n",
       "      <td>0.020629</td>\n",
       "      <td>0.007045</td>\n",
       "    </tr>\n",
       "  </tbody>\n",
       "</table>\n",
       "</div>"
      ],
      "text/plain": [
       "                 id     toxic  severe_toxic   obscene    threat    insult  \\\n",
       "0  00001cee341fdb12  0.999985      0.908444  0.999989  0.787636  0.999315   \n",
       "1  0000247867823ef7  0.007931      0.001914  0.002114  0.000236  0.009395   \n",
       "2  00013b17ad220c46  0.096677      0.014633  0.045180  0.003769  0.061378   \n",
       "3  00017563c3f7919a  0.005284      0.007179  0.004339  0.001455  0.006547   \n",
       "4  00017695ad8997eb  0.071303      0.014613  0.027473  0.005728  0.020629   \n",
       "\n",
       "   identity_hate  \n",
       "0       0.969821  \n",
       "1       0.009243  \n",
       "2       0.023241  \n",
       "3       0.001070  \n",
       "4       0.007045  "
      ]
     },
     "execution_count": 16,
     "metadata": {},
     "output_type": "execute_result"
    }
   ],
   "source": [
    "results.head()"
   ]
  },
  {
   "cell_type": "code",
   "execution_count": 17,
   "metadata": {},
   "outputs": [
    {
     "data": {
      "text/plain": [
       "(153164, 7)"
      ]
     },
     "execution_count": 17,
     "metadata": {},
     "output_type": "execute_result"
    }
   ],
   "source": [
    "results.shape"
   ]
  },
  {
   "cell_type": "code",
   "execution_count": 18,
   "metadata": {},
   "outputs": [],
   "source": [
    "exportFilename = \"./submissions/oversampled-tf-idf.csv\"\n",
    "\n",
    "results.to_csv(exportFilename, index=False)"
   ]
  }
 ],
 "metadata": {
  "kernelspec": {
   "display_name": "Python 3",
   "language": "python",
   "name": "python3"
  },
  "language_info": {
   "codemirror_mode": {
    "name": "ipython",
    "version": 3
   },
   "file_extension": ".py",
   "mimetype": "text/x-python",
   "name": "python",
   "nbconvert_exporter": "python",
   "pygments_lexer": "ipython3",
   "version": "3.6.2"
  }
 },
 "nbformat": 4,
 "nbformat_minor": 2
}
