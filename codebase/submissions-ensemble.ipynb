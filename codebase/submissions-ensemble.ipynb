{
 "cells": [
  {
   "cell_type": "code",
   "execution_count": 28,
   "metadata": {},
   "outputs": [],
   "source": [
    "import pandas as pd\n",
    "import numpy as np\n",
    "\n",
    "def ensembleSubmissions(submission1, submission2):\n",
    "    submisssion1BetterThan2 = (np.abs(submission1 - 0.5) > np.abs(submission2 - 0.5)).astype(int)\n",
    "    return submisssion1BetterThan2 * submission1 + (1 - submisssion1BetterThan2) * submission2"
   ]
  },
  {
   "cell_type": "code",
   "execution_count": 33,
   "metadata": {},
   "outputs": [],
   "source": [
    "def generateEnsemble(filename1, filename2):\n",
    "    submission1 = pd.read_csv(\"../submissions/{}.csv\".format(filename1)).set_index(\"id\")\n",
    "    submission2 = pd.read_csv(\"../submissions/{}.csv\".format(filename2)).set_index(\"id\")\n",
    "    \n",
    "    ensemble = ensembleSubmissions(submission1, submission2)\n",
    "    ensemble.to_csv(\"../submissions/{}_{}.csv\".format(filename1, filename2))"
   ]
  },
  {
   "cell_type": "code",
   "execution_count": 34,
   "metadata": {},
   "outputs": [],
   "source": [
    "generateEnsemble(\"cnn-on-top\", \"oversampled-tf-idf\")"
   ]
  }
 ],
 "metadata": {
  "kernelspec": {
   "display_name": "Python 3",
   "language": "python",
   "name": "python3"
  },
  "language_info": {
   "codemirror_mode": {
    "name": "ipython",
    "version": 3
   },
   "file_extension": ".py",
   "mimetype": "text/x-python",
   "name": "python",
   "nbconvert_exporter": "python",
   "pygments_lexer": "ipython3",
   "version": "3.6.2"
  }
 },
 "nbformat": 4,
 "nbformat_minor": 2
}
