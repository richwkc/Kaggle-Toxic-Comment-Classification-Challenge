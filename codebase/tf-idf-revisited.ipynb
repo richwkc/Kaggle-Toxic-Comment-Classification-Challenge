{
 "cells": [
  {
   "cell_type": "markdown",
   "metadata": {},
   "source": [
    "# Word features only on toxic\n",
    "\n",
    "The idea is to construct word features with tf-idf and word2vec and then train a simple model such as logistic regression. "
   ]
  },
  {
   "cell_type": "markdown",
   "metadata": {},
   "source": [
    "## Quick look at the shape of the data"
   ]
  },
  {
   "cell_type": "code",
   "execution_count": 65,
   "metadata": {},
   "outputs": [],
   "source": [
    "from data_preparation import *"
   ]
  },
  {
   "cell_type": "code",
   "execution_count": 16,
   "metadata": {},
   "outputs": [
    {
     "name": "stdout",
     "output_type": "stream",
     "text": [
      "Loading datasets...\n",
      "train: (127656, 8), test: (31915, 8), allData: (159571, 8), contestTest: (153164, 2)\n"
     ]
    }
   ],
   "source": [
    "import pandas as pd\n",
    "train, test, allData, contestTest = loadData()"
   ]
  },
  {
   "cell_type": "markdown",
   "metadata": {},
   "source": [
    "## Prepare data"
   ]
  },
  {
   "cell_type": "code",
   "execution_count": 66,
   "metadata": {},
   "outputs": [
    {
     "name": "stdout",
     "output_type": "stream",
     "text": [
      "Splitting sentences...\n",
      "CPU times: user 16.6 s, sys: 452 ms, total: 17 s\n",
      "Wall time: 17 s\n"
     ]
    }
   ],
   "source": [
    "%%time\n",
    "from sklearn.pipeline import Pipeline\n",
    "\n",
    "splitter = SentenceSplitter(\"comment_text\")\n",
    "wordEmbedding = loadWordEmbedding(\"../../state/external-models/glove.6B/saved-2300.bin\")\n",
    "\n",
    "allWords = splitter.transform(pd.concat([allData, contestTest]))\n",
    "textWords = set([word for sentence in allWords for word in sentence])\n",
    "missingWords = textWords - set(list(wordEmbedding.vocab.keys()))\n",
    "\n",
    "missingWordsResolutionDict = loadObject(\"./missingWordsResolution.plk\")\n",
    "missingWordsResolver = MissingWordsResolver(missingWordsResolutionDict, missingWords)\n",
    "\n",
    "splittingPipeline = Pipeline(steps=[\n",
    "    (\"split\", splitter),\n",
    "    (\"resolveMissingWords\", missingWordsResolver) ])"
   ]
  },
  {
   "cell_type": "code",
   "execution_count": 76,
   "metadata": {},
   "outputs": [
    {
     "name": "stdout",
     "output_type": "stream",
     "text": [
      "Oversampling...\n",
      "Splitting sentences...\n",
      "Resolving missing words...\n",
      "Splitting sentences...\n",
      "Resolving missing words...\n"
     ]
    }
   ],
   "source": [
    "oversampler = Oversampler(\"toxic\")\n",
    "\n",
    "trainOversampled = oversampler.transform(train)\n",
    "trainSentences = splittingPipeline.transform(trainOversampled).transform(lambda x: \" \".join(x))\n",
    "\n",
    "testSentences = splittingPipeline.transform(test).transform(lambda x: \" \".join(x))"
   ]
  },
  {
   "cell_type": "markdown",
   "metadata": {},
   "source": [
    "### Tf-idf features"
   ]
  },
  {
   "cell_type": "code",
   "execution_count": 91,
   "metadata": {},
   "outputs": [],
   "source": [
    "from sklearn.feature_extraction.text import TfidfVectorizer\n",
    "\n",
    "tfidf = TfidfVectorizer().fit(trainSentences)"
   ]
  },
  {
   "cell_type": "code",
   "execution_count": 92,
   "metadata": {},
   "outputs": [
    {
     "name": "stderr",
     "output_type": "stream",
     "text": [
      "/home/mariosk/anaconda2/envs/ipykernel_py3/lib/python3.6/site-packages/sklearn/feature_extraction/text.py:1089: FutureWarning: Conversion of the second argument of issubdtype from `float` to `np.floating` is deprecated. In future, it will be treated as `np.float64 == np.dtype(float).type`.\n",
      "  if hasattr(X, 'dtype') and np.issubdtype(X.dtype, np.float):\n"
     ]
    }
   ],
   "source": [
    "tfidfTrainFeatures = tfidf.transform(trainSentences)"
   ]
  },
  {
   "cell_type": "code",
   "execution_count": 93,
   "metadata": {},
   "outputs": [
    {
     "name": "stderr",
     "output_type": "stream",
     "text": [
      "/home/mariosk/anaconda2/envs/ipykernel_py3/lib/python3.6/site-packages/sklearn/feature_extraction/text.py:1089: FutureWarning: Conversion of the second argument of issubdtype from `float` to `np.floating` is deprecated. In future, it will be treated as `np.float64 == np.dtype(float).type`.\n",
      "  if hasattr(X, 'dtype') and np.issubdtype(X.dtype, np.float):\n"
     ]
    }
   ],
   "source": [
    "tfidfTestFeatures = tfidf.transform(testSentences)"
   ]
  },
  {
   "cell_type": "code",
   "execution_count": 94,
   "metadata": {},
   "outputs": [],
   "source": [
    "trainFeatures = tfidfTrainFeatures\n",
    "testFeatures = tfidfTestFeatures"
   ]
  },
  {
   "cell_type": "markdown",
   "metadata": {},
   "source": [
    "## Logistic regression"
   ]
  },
  {
   "cell_type": "code",
   "execution_count": 133,
   "metadata": {},
   "outputs": [],
   "source": [
    "from sklearn.linear_model import LogisticRegression\n",
    "from sklearn.ensemble import ExtraTreesClassifier\n",
    "\n",
    "model = ExtraTreesClassifier(n_jobs=-1, max_depth=60).fit(trainFeatures, trainOversampled.toxic)"
   ]
  },
  {
   "cell_type": "code",
   "execution_count": 134,
   "metadata": {},
   "outputs": [],
   "source": [
    "testPredictions = model.predict(testFeatures)"
   ]
  },
  {
   "cell_type": "code",
   "execution_count": 135,
   "metadata": {},
   "outputs": [],
   "source": [
    "testProbPredictions = model.predict_proba(testFeatures)"
   ]
  },
  {
   "cell_type": "code",
   "execution_count": 136,
   "metadata": {},
   "outputs": [],
   "source": [
    "from sklearn.metrics import confusion_matrix, f1_score, log_loss, roc_auc_score\n",
    "\n",
    "def getMetrics(label, predictions, probPredictions):\n",
    "    return {\"Confusion Matrix\": pd.DataFrame(\n",
    "                data=confusion_matrix(label, predictions),\n",
    "                index=[\"T Neutral\", \"T Toxic\"],\n",
    "                columns=[\"P Neutral\", \"P Toxic\"]), \n",
    "            \"Relativized Confusion Matrix\": pd.DataFrame(\n",
    "                data=confusion_matrix(label, predictions) / float(len(predictions)),\n",
    "                index=[\"T Neutral\", \"T Toxic\"],\n",
    "                columns=[\"P Neutral\", \"P Toxic\"]),\n",
    "            \"F1 score\": round(f1_score(label, predictions, pos_label=1.0), 3),\n",
    "            \"Logarithmic loss\": round(log_loss(label, probPredictions), 4),\n",
    "            \"Area under ROC\": roc_auc_score(label, probPredictions[:, 1]) }"
   ]
  },
  {
   "cell_type": "code",
   "execution_count": 137,
   "metadata": {},
   "outputs": [],
   "source": [
    "import numpy as np\n",
    "np.set_printoptions(precision=4, suppress=True)"
   ]
  },
  {
   "cell_type": "code",
   "execution_count": 138,
   "metadata": {},
   "outputs": [],
   "source": [
    "from IPython.display import HTML, display\n",
    "\n",
    "def printMetrics(metrics):\n",
    "    for (name, value) in metrics.items():\n",
    "        display(HTML(\"<div style='font-weight:bold'>{} :</div>\".format(name)))\n",
    "        print(value)"
   ]
  },
  {
   "cell_type": "markdown",
   "metadata": {},
   "source": [
    "## Print metrics for test dataset"
   ]
  },
  {
   "cell_type": "code",
   "execution_count": 139,
   "metadata": {},
   "outputs": [],
   "source": [
    "from sklearn.metrics import roc_curve\n",
    "import matplotlib.pyplot as plt\n",
    "\n",
    "def showROC(labels, probPredictions):\n",
    "    fpr, tpr, _ = roc_curve(labels, probPredictions, pos_label=1)\n",
    "\n",
    "    plt.xlabel(\"False Positive Rate\")\n",
    "    plt.ylabel(\"True Positive Rate\")\n",
    "    plt.title(\"ROC Curve\")\n",
    "    plt.plot([0, 1], [0, 1], color=\"darkorange\", linestyle=\"--\")\n",
    "    plt.plot(fpr, tpr, color=\"steelblue\")\n",
    "    plt.show()"
   ]
  },
  {
   "cell_type": "code",
   "execution_count": 140,
   "metadata": {},
   "outputs": [
    {
     "data": {
      "text/html": [
       "<div style='font-weight:bold'>Confusion Matrix :</div>"
      ],
      "text/plain": [
       "<IPython.core.display.HTML object>"
      ]
     },
     "metadata": {},
     "output_type": "display_data"
    },
    {
     "name": "stdout",
     "output_type": "stream",
     "text": [
      "           P Neutral  P Toxic\n",
      "T Neutral      20637     8219\n",
      "T Toxic          714     2345\n"
     ]
    },
    {
     "data": {
      "text/html": [
       "<div style='font-weight:bold'>Relativized Confusion Matrix :</div>"
      ],
      "text/plain": [
       "<IPython.core.display.HTML object>"
      ]
     },
     "metadata": {},
     "output_type": "display_data"
    },
    {
     "name": "stdout",
     "output_type": "stream",
     "text": [
      "           P Neutral   P Toxic\n",
      "T Neutral   0.646624  0.257528\n",
      "T Toxic     0.022372  0.073476\n"
     ]
    },
    {
     "data": {
      "text/html": [
       "<div style='font-weight:bold'>F1 score :</div>"
      ],
      "text/plain": [
       "<IPython.core.display.HTML object>"
      ]
     },
     "metadata": {},
     "output_type": "display_data"
    },
    {
     "name": "stdout",
     "output_type": "stream",
     "text": [
      "0.344\n"
     ]
    },
    {
     "data": {
      "text/html": [
       "<div style='font-weight:bold'>Logarithmic loss :</div>"
      ],
      "text/plain": [
       "<IPython.core.display.HTML object>"
      ]
     },
     "metadata": {},
     "output_type": "display_data"
    },
    {
     "name": "stdout",
     "output_type": "stream",
     "text": [
      "0.5858\n"
     ]
    },
    {
     "data": {
      "text/html": [
       "<div style='font-weight:bold'>Area under ROC :</div>"
      ],
      "text/plain": [
       "<IPython.core.display.HTML object>"
      ]
     },
     "metadata": {},
     "output_type": "display_data"
    },
    {
     "name": "stdout",
     "output_type": "stream",
     "text": [
      "0.8212069062163732\n"
     ]
    },
    {
     "data": {
      "image/png": "[encoded data removed]",
      "text/plain": [
       "<matplotlib.figure.Figure at 0x7fac48b822e8>"
      ]
     },
     "metadata": {},
     "output_type": "display_data"
    }
   ],
   "source": [
    "printMetrics(getMetrics(test.toxic, testPredictions, testProbPredictions))\n",
    "showROC(test.toxic.as_matrix(), testProbPredictions[:, 1])"
   ]
  },
  {
   "cell_type": "markdown",
   "metadata": {},
   "source": [
    "## Print metrics for train dataset"
   ]
  },
  {
   "cell_type": "code",
   "execution_count": 141,
   "metadata": {
    "scrolled": false
   },
   "outputs": [
    {
     "data": {
      "text/html": [
       "<div style='font-weight:bold'>Confusion Matrix :</div>"
      ],
      "text/plain": [
       "<IPython.core.display.HTML object>"
      ]
     },
     "metadata": {},
     "output_type": "display_data"
    },
    {
     "name": "stdout",
     "output_type": "stream",
     "text": [
      "           P Neutral  P Toxic\n",
      "T Neutral      84457    30964\n",
      "T Toxic         6270   116080\n"
     ]
    },
    {
     "data": {
      "text/html": [
       "<div style='font-weight:bold'>Relativized Confusion Matrix :</div>"
      ],
      "text/plain": [
       "<IPython.core.display.HTML object>"
      ]
     },
     "metadata": {},
     "output_type": "display_data"
    },
    {
     "name": "stdout",
     "output_type": "stream",
     "text": [
      "           P Neutral   P Toxic\n",
      "T Neutral   0.355203  0.130226\n",
      "T Toxic     0.026370  0.488201\n"
     ]
    },
    {
     "data": {
      "text/html": [
       "<div style='font-weight:bold'>F1 score :</div>"
      ],
      "text/plain": [
       "<IPython.core.display.HTML object>"
      ]
     },
     "metadata": {},
     "output_type": "display_data"
    },
    {
     "name": "stdout",
     "output_type": "stream",
     "text": [
      "0.862\n"
     ]
    },
    {
     "data": {
      "text/html": [
       "<div style='font-weight:bold'>Logarithmic loss :</div>"
      ],
      "text/plain": [
       "<IPython.core.display.HTML object>"
      ]
     },
     "metadata": {},
     "output_type": "display_data"
    },
    {
     "name": "stdout",
     "output_type": "stream",
     "text": [
      "0.548\n"
     ]
    },
    {
     "data": {
      "text/html": [
       "<div style='font-weight:bold'>Area under ROC :</div>"
      ],
      "text/plain": [
       "<IPython.core.display.HTML object>"
      ]
     },
     "metadata": {},
     "output_type": "display_data"
    },
    {
     "name": "stdout",
     "output_type": "stream",
     "text": [
      "0.9436442591340435\n"
     ]
    },
    {
     "data": {
      "image/png": "[encoded data removed]",
      "text/plain": [
       "<matplotlib.figure.Figure at 0x7fac719e4e80>"
      ]
     },
     "metadata": {},
     "output_type": "display_data"
    }
   ],
   "source": [
    "trainPredictions = model.predict(trainFeatures)\n",
    "trainProbPredictions = model.predict_proba(trainFeatures)\n",
    "\n",
    "printMetrics(getMetrics(trainOversampled.toxic, trainPredictions, trainProbPredictions))\n",
    "showROC(trainOversampled.toxic.as_matrix(), trainProbPredictions[:, 1])"
   ]
  },
  {
   "cell_type": "markdown",
   "metadata": {},
   "source": [
    "### Play with the model"
   ]
  },
  {
   "cell_type": "code",
   "execution_count": 21,
   "metadata": {},
   "outputs": [],
   "source": [
    "def predict(sentence):\n",
    "    return round(model.predict_proba(tfidf.transform([sentence]))[0][1], 3)"
   ]
  },
  {
   "cell_type": "code",
   "execution_count": 22,
   "metadata": {
    "scrolled": true
   },
   "outputs": [
    {
     "name": "stderr",
     "output_type": "stream",
     "text": [
      "/home/mariosk/anaconda2/envs/ipykernel_py3/lib/python3.6/site-packages/sklearn/feature_extraction/text.py:1089: FutureWarning: Conversion of the second argument of issubdtype from `float` to `np.floating` is deprecated. In future, it will be treated as `np.float64 == np.dtype(float).type`.\n",
      "  if hasattr(X, 'dtype') and np.issubdtype(X.dtype, np.float):\n"
     ]
    },
    {
     "data": {
      "text/plain": [
       "0.131"
      ]
     },
     "execution_count": 22,
     "metadata": {},
     "output_type": "execute_result"
    }
   ],
   "source": [
    "predict(\"<enter bad word here>\")"
   ]
  },
  {
   "cell_type": "markdown",
   "metadata": {},
   "source": [
    "## Export TP, FN and FP values"
   ]
  },
  {
   "cell_type": "code",
   "execution_count": 23,
   "metadata": {},
   "outputs": [],
   "source": [
    "predictionsDF = pd.DataFrame(testProbPredictions[:, 1], columns=[\"prediction\"])\n",
    "zeroIndexedTest = test.reset_index().drop([\"index\"], axis=1)\n",
    "\n",
    "testEvaluations = pd.concat([zeroIndexedTest, predictionsDF], axis=1)"
   ]
  },
  {
   "cell_type": "code",
   "execution_count": 24,
   "metadata": {},
   "outputs": [],
   "source": [
    "tp = testEvaluations[(testEvaluations.toxic == 1) & (testEvaluations.prediction > 0.5)]\n",
    "fn = testEvaluations[(testEvaluations.toxic == 1) & (testEvaluations.prediction <= 0.5)]\n",
    "fp = testEvaluations[(testEvaluations.toxic == 0) & (testEvaluations.prediction > 0.5)]"
   ]
  },
  {
   "cell_type": "code",
   "execution_count": 25,
   "metadata": {},
   "outputs": [
    {
     "name": "stdout",
     "output_type": "stream",
     "text": [
      "Counts:\n",
      "TP: 1840\n",
      "FN: 1219\n",
      "FP: 166\n"
     ]
    }
   ],
   "source": [
    "print(\"Counts:\\nTP: {}\\nFN: {}\\nFP: {}\".format(tp.shape[0], fn.shape[0], fp.shape[0]))"
   ]
  },
  {
   "cell_type": "code",
   "execution_count": 30,
   "metadata": {},
   "outputs": [],
   "source": [
    "(tp[[\"toxic\", \"prediction\", \"id\", \"comment_text\"]]\n",
    "    .sort_values([\"prediction\"], ascending=False)\n",
    "    .to_csv(\"./data/false-predictions/tf-idf/tp.csv\", index=False))\n",
    "(fn[[\"toxic\", \"prediction\", \"id\", \"comment_text\"]]\n",
    "    .sort_values([\"prediction\"], ascending=False)\n",
    "    .to_csv(\"./data/false-predictions/tf-idf/fn.csv\", index=False))\n",
    "(fp[[\"toxic\", \"prediction\", \"id\", \"comment_text\"]]\n",
    "    .sort_values([\"prediction\"], ascending=False)\n",
    "    .to_csv(\"./data/false-predictions/tf-idf/fp.csv\", index=False))"
   ]
  }
 ],
 "metadata": {
  "kernelspec": {
   "display_name": "Python 3",
   "language": "python",
   "name": "python3"
  },
  "language_info": {
   "codemirror_mode": {
    "name": "ipython",
    "version": 3
   },
   "file_extension": ".py",
   "mimetype": "text/x-python",
   "name": "python",
   "nbconvert_exporter": "python",
   "pygments_lexer": "ipython3",
   "version": "3.6.2"
  }
 },
 "nbformat": 4,
 "nbformat_minor": 2
}
