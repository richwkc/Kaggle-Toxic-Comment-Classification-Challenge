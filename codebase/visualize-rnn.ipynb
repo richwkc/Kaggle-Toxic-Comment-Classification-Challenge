{
 "cells": [
  {
   "cell_type": "markdown",
   "metadata": {},
   "source": [
    "# Word2Vec then RNN"
   ]
  },
  {
   "cell_type": "markdown",
   "metadata": {},
   "source": [
    "## Imports and setting up TensorBoard"
   ]
  },
  {
   "cell_type": "code",
   "execution_count": 1,
   "metadata": {},
   "outputs": [
    {
     "name": "stdout",
     "output_type": "stream",
     "text": [
      "[name: \"/cpu:0\"\n",
      "device_type: \"CPU\"\n",
      "memory_limit: 268435456\n",
      "locality {\n",
      "}\n",
      "incarnation: 6368271362963190084\n",
      "]\n"
     ]
    },
    {
     "name": "stderr",
     "output_type": "stream",
     "text": [
      "Using TensorFlow backend.\n"
     ]
    }
   ],
   "source": [
    "from data_preparation import *\n",
    "import tensorflow as tf\n",
    "from keras.models import Sequential\n",
    "from keras.layers import LSTM, Dense, Bidirectional, TimeDistributed, Dropout, Embedding\n",
    "from keras.optimizers import Adam\n",
    "from keras_train_helper import tfauc, rotateTensorboardLogs, PrintAucCallback, plotLearningCurve\n",
    "from keras.regularizers import L1L2\n",
    "from tensorflow.python.client import device_lib\n",
    "from keras.callbacks import TensorBoard\n",
    "\n",
    "print(device_lib.list_local_devices())"
   ]
  },
  {
   "cell_type": "markdown",
   "metadata": {},
   "source": [
    "## Loading data and setting up preprocessing tools"
   ]
  },
  {
   "cell_type": "code",
   "execution_count": 2,
   "metadata": {},
   "outputs": [
    {
     "name": "stdout",
     "output_type": "stream",
     "text": [
      "Loading datasets...\n",
      "train: (127656, 8), test: (31915, 8), allData: (159571, 8), contestTest: (153164, 2)\n"
     ]
    }
   ],
   "source": [
    "train, test, allData, contestTest = loadData()"
   ]
  },
  {
   "cell_type": "markdown",
   "metadata": {},
   "source": [
    "### Split sentences and apply word correction & splitting"
   ]
  },
  {
   "cell_type": "code",
   "execution_count": 21,
   "metadata": {
    "scrolled": true
   },
   "outputs": [
    {
     "name": "stdout",
     "output_type": "stream",
     "text": [
      "Splitting sentences...\n",
      "CPU times: user 11.8 s, sys: 320 ms, total: 12.1 s\n",
      "Wall time: 12.1 s\n"
     ]
    }
   ],
   "source": [
    "%%time\n",
    "from sklearn.pipeline import Pipeline\n",
    "\n",
    "maxSeqLength = 250\n",
    "\n",
    "splitter = SentenceSplitter(\"comment_text\")\n",
    "stopwordsRemover = StopwordsRemover()\n",
    "wordEmbedding = loadWordEmbedding(\"../../state/external-models/glove.6B/saved-50.bin\")\n",
    "\n",
    "allWords = splitter.transform(pd.concat([allData, contestTest]))\n",
    "textWords = set([word for sentence in allWords for word in sentence])\n",
    "# missingWords = textWords - set(list(wordEmbedding.vocab.keys()))\n",
    "\n",
    "missingWordsResolutionDict = loadObject(\"./missingWordsResolution.plk\")\n",
    "missingWords = set(missingWordsResolutionDict.keys()) - set(list(wordEmbedding.vocab.keys()))\n",
    "missingWordsResolver = MissingWordsResolver(missingWordsResolutionDict, missingWords)\n",
    "\n",
    "splittingPipeline = Pipeline(steps=[\n",
    "    (\"split\", splitter),\n",
    "#     (\"removeStopwords\", stopwordsRemover),\n",
    "    (\"resolveMissingWords\", missingWordsResolver) ])"
   ]
  },
  {
   "cell_type": "markdown",
   "metadata": {},
   "source": [
    "### W2I and zero padding"
   ]
  },
  {
   "cell_type": "code",
   "execution_count": 22,
   "metadata": {},
   "outputs": [
    {
     "name": "stdout",
     "output_type": "stream",
     "text": [
      "Resolving missing words...\n",
      "Loading w2i and i2w dictionaries...\n",
      "CPU times: user 8.96 s, sys: 48 ms, total: 9.01 s\n",
      "Wall time: 9.01 s\n"
     ]
    }
   ],
   "source": [
    "%%time\n",
    "resolvedWords = missingWordsResolver.transform(allWords)\n",
    "\n",
    "w2i = Word2Int(resolvedWords)\n",
    "zeroPadder = ZeroPadder(maxSeqLength)\n",
    "\n",
    "indexingPipeline = Pipeline(steps=[\n",
    "    (\"w2i\", w2i),\n",
    "    (\"zeroPadding\", zeroPadder)\n",
    "])"
   ]
  },
  {
   "cell_type": "code",
   "execution_count": 23,
   "metadata": {},
   "outputs": [],
   "source": [
    "preparationPipeline = Pipeline(steps=[\n",
    "    (\"splittingPipeline\", splittingPipeline),\n",
    "    (\"indexingPipeline\", indexingPipeline)\n",
    "])"
   ]
  },
  {
   "cell_type": "markdown",
   "metadata": {},
   "source": [
    "### W2V"
   ]
  },
  {
   "cell_type": "code",
   "execution_count": 33,
   "metadata": {},
   "outputs": [
    {
     "name": "stdout",
     "output_type": "stream",
     "text": [
      "Loading word2vec dictionary...\n",
      "CPU times: user 100 ms, sys: 0 ns, total: 100 ms\n",
      "Wall time: 98.6 ms\n"
     ]
    }
   ],
   "source": [
    "%%time\n",
    "w2v = Word2Vec(wordEmbedding, 50, w2i.i2w, seed=4324)"
   ]
  },
  {
   "cell_type": "code",
   "execution_count": 34,
   "metadata": {},
   "outputs": [],
   "source": [
    "embeddingMatrix, i2v = w2v.embeddingMatrix()"
   ]
  },
  {
   "cell_type": "markdown",
   "metadata": {},
   "source": [
    "## Define the model"
   ]
  },
  {
   "cell_type": "markdown",
   "metadata": {},
   "source": [
    "### Define the model"
   ]
  },
  {
   "cell_type": "code",
   "execution_count": 36,
   "metadata": {},
   "outputs": [],
   "source": [
    "lstmUnits = 100\n",
    "numClasses = 2\n",
    "batchSize = 1024\n",
    "\n",
    "def defineModel(dropout, recurrent_dropout):\n",
    "    model = Sequential()\n",
    "\n",
    "    model.add(Embedding(\n",
    "        embeddingMatrix.shape[0],\n",
    "        embeddingMatrix.shape[1],\n",
    "        weights=[embeddingMatrix],\n",
    "        input_length=maxSeqLength,\n",
    "        trainable=False))\n",
    "\n",
    "#     model.add(Bidirectional(LSTM(\n",
    "#         lstmUnits, \n",
    "#         dropout=dropout, \n",
    "#         recurrent_dropout=recurrent_dropout, \n",
    "#         name=\"LSTM\")))\n",
    "\n",
    "    model.add(LSTM(\n",
    "        lstmUnits, \n",
    "        dropout=dropout, \n",
    "        recurrent_dropout=recurrent_dropout, \n",
    "        name=\"LSTM\"))\n",
    "\n",
    "    model.add(Dense(\n",
    "        2, \n",
    "        activation=\"softmax\", \n",
    "        name=\"softmax_output\"))\n",
    "    \n",
    "    model.compile(\n",
    "        loss=\"categorical_crossentropy\", \n",
    "        optimizer=\"nadam\", \n",
    "        metrics=[tfauc])\n",
    "\n",
    "    print(model.summary())\n",
    "    return model"
   ]
  },
  {
   "cell_type": "markdown",
   "metadata": {},
   "source": [
    "## Prepare data and train the model"
   ]
  },
  {
   "cell_type": "code",
   "execution_count": 39,
   "metadata": {},
   "outputs": [],
   "source": [
    "def fitModel(model, trainDataset, testDataset, printAucCallback, label, epochs, fast=False):\n",
    "    print(\"Training model for target variable: {}\".format(label))\n",
    "    \n",
    "    tf.set_random_seed(43245)\n",
    "    np.random.seed(453252)\n",
    "    \n",
    "    labelizer = Labelizer(label)\n",
    "    oversampler = Oversampler(label)\n",
    "    \n",
    "    trainOversampled = oversampler.transform(trainDataset)\n",
    "\n",
    "    trainSentences = preparationPipeline.transform(trainOversampled)\n",
    "    trainLabels = labelizer.transform(trainOversampled)\n",
    "    testSentences = preparationPipeline.transform(testDataset)\n",
    "    testLabels = labelizer.transform(testDataset)\n",
    "\n",
    "    printAucCallback.setDatasets([trainSentences, trainLabels], [testSentences, testLabels])\n",
    "\n",
    "    model.fit(\n",
    "        trainSentences, \n",
    "        trainLabels, \n",
    "        nb_epoch=epochs, \n",
    "        batch_size=batchSize,\n",
    "        callbacks=[] if fast else [printAucCallback])\n",
    "    \n",
    "    return model, testSentences, testLabels"
   ]
  },
  {
   "cell_type": "code",
   "execution_count": 45,
   "metadata": {
    "scrolled": false
   },
   "outputs": [
    {
     "name": "stdout",
     "output_type": "stream",
     "text": [
      "CPU times: user 0 ns, sys: 0 ns, total: 0 ns\n",
      "Wall time: 7.87 µs\n"
     ]
    }
   ],
   "source": [
    "%%time\n",
    "dropout = 0.6\n",
    "recurrentDropout = 0.2\n",
    "model = defineModel(dropout, recurrentDropout)\n",
    "printAucCallback = PrintAucCallback(8192, printFrequency=0.02)\n",
    "\n",
    "model, testSentences, testLabels = fitModel(model, train[:20000], test[:20000], printAucCallback, \"toxic\", 2)"
   ]
  },
  {
   "cell_type": "markdown",
   "metadata": {},
   "source": [
    "## Query cell state and cell output"
   ]
  },
  {
   "cell_type": "code",
   "execution_count": 41,
   "metadata": {},
   "outputs": [],
   "source": [
    "from keras.layers import Input\n",
    "from keras.models import Model"
   ]
  },
  {
   "cell_type": "code",
   "execution_count": 61,
   "metadata": {},
   "outputs": [],
   "source": [
    "inputLayer = Input(shape=(maxSeqLength,))\n",
    "\n",
    "embeddingLayer = Embedding(\n",
    "    embeddingMatrix.shape[0],\n",
    "    embeddingMatrix.shape[1],\n",
    "    weights=[embeddingMatrix],\n",
    "    input_length=maxSeqLength,\n",
    "    trainable=False)(inputLayer)\n",
    "\n",
    "lstmOutput, _, stateC = LSTM(\n",
    "        lstmUnits, \n",
    "        dropout=dropout, \n",
    "        recurrent_dropout=recurrentDropout, \n",
    "        weights=model.layers[1].get_weights(),\n",
    "        return_state=True,\n",
    "        name=\"LSTM_get_outputs\")(embeddingLayer)\n",
    "\n",
    "outputModel = Model(inputs=inputLayer, outputs=lstmOutput)\n",
    "cellStateModel = Model(inputs=inputLayer, outputs=stateC)"
   ]
  },
  {
   "cell_type": "code",
   "execution_count": 62,
   "metadata": {},
   "outputs": [],
   "source": [
    "def outputs(sentence):\n",
    "    preparedSentence = preparationPipeline.transform(pd.DataFrame([sentence], columns=[\"comment_text\"]))\n",
    "    return [modelX.predict(preparedSentence) for modelX in [outputModel, cellStateModel]]"
   ]
  },
  {
   "cell_type": "markdown",
   "metadata": {},
   "source": [
    "## Plot network"
   ]
  },
  {
   "cell_type": "code",
   "execution_count": 413,
   "metadata": {},
   "outputs": [],
   "source": [
    "outputPredictions = outputModel.predict(testSentences)\n",
    "cellStatePredictions = cellStateModel.predict(testSentences)\n",
    "\n",
    "def normalizeVector(v, minimum, maximum):\n",
    "    return (v - minimum) / (maximum - minimum)\n",
    "\n",
    "def normalizeOutput(v):\n",
    "    return normalizeVector(v, outputPredictions.min(), outputPredictions.max())\n",
    "\n",
    "def normalizeCellState(v):\n",
    "    return normalizeVector(v, cellStatePredictions.min(), cellStatePredictions.max())"
   ]
  },
  {
   "cell_type": "code",
   "execution_count": 432,
   "metadata": {},
   "outputs": [],
   "source": [
    "from matplotlib.collections import PatchCollection\n",
    "from matplotlib.patches import Rectangle\n",
    "from matplotlib.pyplot import text\n",
    "\n",
    "def plotActivations(sentence):\n",
    "    outputActivations, cellStateActivations = outputs(sentence)\n",
    "    \n",
    "    plt.clf()\n",
    "    plt.figure(figsize=(20, 5))\n",
    "\n",
    "    cellStates =[Rectangle(\n",
    "            (i / lstmUnits, 0.4), \n",
    "            1 / lstmUnits, \n",
    "            0.2, \n",
    "            alpha=a, \n",
    "            color=\"navy\") \n",
    "         for (i, a) in zip(range(lstmUnits), normalizeCellState(cellStateActivations[0]))]\n",
    "\n",
    "    cellOutputs =[Rectangle(\n",
    "            (i / lstmUnits, 0.6), \n",
    "            1 / lstmUnits, \n",
    "            0.2, \n",
    "            alpha=a, \n",
    "            color=\"navy\") \n",
    "         for (i, a) in zip(range(lstmUnits), normalizeOutput(outputActivations[0]))]\n",
    "\n",
    "    words = splitter.transform(pd.DataFrame([sentence], columns=[\"comment_text\"]))[0]\n",
    "    for (i, word) in zip(range(len(words)), words):\n",
    "        text(i/lstmUnits, 0.3, word, fontsize=10, rotation=\"vertical\", ha=\"left\", va=\"center\")\n",
    "\n",
    "    ax = plt.gca()\n",
    "    ax.set_axis_off()\n",
    "    for state in cellStates:\n",
    "        ax.add_patch(state)\n",
    "\n",
    "    for output in cellOutputs:\n",
    "        ax.add_patch(output)\n",
    "    plt.show()"
   ]
  },
  {
   "cell_type": "code",
   "execution_count": 442,
   "metadata": {},
   "outputs": [
    {
     "name": "stdout",
     "output_type": "stream",
     "text": [
      "Splitting sentences...\n",
      "Resolving missing words...\n",
      "Converting words to integers...\n",
      "Zero-padding...\n",
      "Splitting sentences...\n"
     ]
    },
    {
     "data": {
      "text/plain": [
       "<matplotlib.figure.Figure at 0x7f8757700cc0>"
      ]
     },
     "metadata": {},
     "output_type": "display_data"
    },
    {
     "data": {
      "image/png": "[encoded data removed]",
      "text/plain": [
       "<matplotlib.figure.Figure at 0x7f8771561630>"
      ]
     },
     "metadata": {},
     "output_type": "display_data"
    }
   ],
   "source": [
    "plotActivations(\"This is the ticket!\")"
   ]
  },
  {
   "cell_type": "code",
   "execution_count": 372,
   "metadata": {},
   "outputs": [
    {
     "data": {
      "image/png": "[encoded data removed]",
      "text/plain": [
       "<matplotlib.figure.Figure at 0x7f874007bc18>"
      ]
     },
     "metadata": {},
     "output_type": "display_data"
    },
    {
     "name": "stdout",
     "output_type": "stream",
     "text": [
      "hello\n"
     ]
    }
   ],
   "source": [
    "import networkx as nx\n",
    "\n",
    "\n",
    "numberOfNeurons = 100\n",
    "\n",
    "wordsLayer = list(zip(range(numberOfNeurons), range(1, numberOfNeurons)))\n",
    "rnnLayer = list(zip(range(numberOfNeurons, 2*numberOfNeurons), range(numberOfNeurons + 1, 2*numberOfNeurons)))\n",
    "layersConnection = list(zip(range(numberOfNeurons), range(numberOfNeurons, 2*numberOfNeurons)))\n",
    "plt.figure(figsize=(20, 3))\n",
    "\n",
    "pos = dict(list({x: [2*x, 0] for x in range(numberOfNeurons)}.items())\n",
    "           + list({x: [2*(x - numberOfNeurons), 1] for x in range(numberOfNeurons, 2*numberOfNeurons)}.items()))\n",
    "\n",
    "G = nx.Graph()\n",
    "\n",
    "# G.add_edges_from(wordsLayer + rnnLayer + layersConnection)\n",
    "\n",
    "# nx.draw(graph, node_color=\"blue\")\n",
    "\n",
    "# pos = nx.spring_layout(G)\n",
    "nx.draw_networkx_nodes(G, pos, \n",
    "    nodelist=list(range(numberOfNeurons)) + list(range(numberOfNeurons, 2*numberOfNeurons)), \n",
    "    cmap=plt.get_cmap('jet'), node_size = 10)\n",
    "nx.draw_networkx_labels(G, pos)\n",
    "nx.draw_networkx_edges(G, pos, edgelist=layersConnection, edge_color='navy', arrows=True, width=3)\n",
    "nx.draw_networkx_edges(G, pos, edgelist=wordsLayer+rnnLayer, edge_color='navy', arrows=True, width=10)\n",
    "\n",
    "ax = plt.gca()\n",
    "ax.set_axis_off()\n",
    "plt.show()\n",
    "print(\"hello\")"
   ]
  },
  {
   "cell_type": "code",
   "execution_count": 99,
   "metadata": {},
   "outputs": [
    {
     "data": {
      "image/png": "[encoded data removed]",
      "text/plain": [
       "<matplotlib.figure.Figure at 0x7f87921d2908>"
      ]
     },
     "metadata": {},
     "output_type": "display_data"
    }
   ],
   "source": [
    "import matplotlib.pyplot as plt\n",
    "import networkx as nx\n",
    "\n",
    "G = nx.generators.directed.random_k_out_graph(10, 3, 0.5)\n",
    "pos = nx.layout.spring_layout(G)\n",
    "\n",
    "M = G.number_of_edges()\n",
    "edge_alphas = [(5 + i) / (M + 4) for i in range(M)]\n",
    "\n",
    "nodes = nx.draw_networkx_nodes(G, pos, node_color='blue')\n",
    "edges = nx.draw_networkx_edges(G, pos, arrowstyle='->', arrowsize=10, edge_cmap=plt.cm.Blues, width=2)\n",
    "# # set alpha value for each edge\n",
    "# for i in range(M):\n",
    "#     edges[i].set_alpha(edge_alphas[i])\n",
    "\n",
    "ax = plt.gca()\n",
    "ax.set_axis_off()\n",
    "plt.show()"
   ]
  },
  {
   "cell_type": "code",
   "execution_count": 70,
   "metadata": {},
   "outputs": [],
   "source": [
    "import matplotlib.pyplot as plt\n",
    "\n",
    "def analyze(sent):\n",
    "    plt.plot(outputs(sent)[1][0])"
   ]
  },
  {
   "cell_type": "code",
   "execution_count": 76,
   "metadata": {},
   "outputs": [
    {
     "name": "stdout",
     "output_type": "stream",
     "text": [
      "Splitting sentences...\n",
      "Resolving missing words...\n",
      "Converting words to integers...\n",
      "Zero-padding...\n",
      "Splitting sentences...\n",
      "Resolving missing words...\n",
      "Converting words to integers...\n",
      "Zero-padding...\n"
     ]
    },
    {
     "data": {
      "image/png": "[encoded data removed]",
      "text/plain": [
       "<matplotlib.figure.Figure at 0x7f87620e4780>"
      ]
     },
     "metadata": {},
     "output_type": "display_data"
    }
   ],
   "source": [
    "plt.clf()\n",
    "analyze(\"fuck you motherfucker dick in your ass fuck your mother pussy deep inside cum on your tits\")\n",
    "analyze(\"love is a to picnics every day\")\n",
    "\n",
    "plt.legend([\"mf\", \"love\"])\n",
    "plt.show()"
   ]
  },
  {
   "cell_type": "markdown",
   "metadata": {},
   "source": [
    "## Compare train and test data"
   ]
  },
  {
   "cell_type": "code",
   "execution_count": 13,
   "metadata": {},
   "outputs": [
    {
     "data": {
      "image/png": "[encoded data removed]",
      "text/plain": [
       "<matplotlib.figure.Figure at 0x7fc359127e80>"
      ]
     },
     "metadata": {},
     "output_type": "display_data"
    }
   ],
   "source": [
    "plotLearningCurve(printAucCallback.listOfAucsTrain, printAucCallback.listOfAucsTest)"
   ]
  },
  {
   "cell_type": "code",
   "execution_count": 398,
   "metadata": {
    "scrolled": false
   },
   "outputs": [
    {
     "data": {
      "text/html": [
       "<div style='font-weight:bold'>Confusion Matrix :</div>"
      ],
      "text/plain": [
       "<IPython.core.display.HTML object>"
      ]
     },
     "metadata": {},
     "output_type": "display_data"
    },
    {
     "name": "stdout",
     "output_type": "stream",
     "text": [
      "           P Neutral  P Toxic\n",
      "T Neutral        766    17282\n",
      "T Toxic           39     1913\n"
     ]
    },
    {
     "data": {
      "text/html": [
       "<div style='font-weight:bold'>Relativized Confusion Matrix :</div>"
      ],
      "text/plain": [
       "<IPython.core.display.HTML object>"
      ]
     },
     "metadata": {},
     "output_type": "display_data"
    },
    {
     "name": "stdout",
     "output_type": "stream",
     "text": [
      "           P Neutral  P Toxic\n",
      "T Neutral    0.03830  0.86410\n",
      "T Toxic      0.00195  0.09565\n"
     ]
    },
    {
     "data": {
      "text/html": [
       "<div style='font-weight:bold'>F1 score :</div>"
      ],
      "text/plain": [
       "<IPython.core.display.HTML object>"
      ]
     },
     "metadata": {},
     "output_type": "display_data"
    },
    {
     "name": "stdout",
     "output_type": "stream",
     "text": [
      "0.181\n"
     ]
    },
    {
     "data": {
      "text/html": [
       "<div style='font-weight:bold'>Logarithmic loss :</div>"
      ],
      "text/plain": [
       "<IPython.core.display.HTML object>"
      ]
     },
     "metadata": {},
     "output_type": "display_data"
    },
    {
     "name": "stdout",
     "output_type": "stream",
     "text": [
      "0.7432\n"
     ]
    },
    {
     "data": {
      "text/html": [
       "<div style='font-weight:bold'>Area under ROC :</div>"
      ],
      "text/plain": [
       "<IPython.core.display.HTML object>"
      ]
     },
     "metadata": {},
     "output_type": "display_data"
    },
    {
     "data": {
      "text/html": [
       "<div style='font-weight:bold; color:red'>0.5314133281195501</div>"
      ],
      "text/plain": [
       "<IPython.core.display.HTML object>"
      ]
     },
     "metadata": {},
     "output_type": "display_data"
    },
    {
     "data": {
      "image/png": "[encoded data removed]",
      "text/plain": [
       "<matplotlib.figure.Figure at 0x7f878f53e828>"
      ]
     },
     "metadata": {},
     "output_type": "display_data"
    }
   ],
   "source": [
    "%%time\n",
    "from evaluate_predictions import evaluatePredictions\n",
    "\n",
    "predictions = model.predict(testSentences, batch_size=4*batchSize)\n",
    "binaryPredictions = np.where(predictions[:, 1] > 0.5, 1, 0)\n",
    "labels = testLabels[:, 1]\n",
    "\n",
    "evaluatePredictions(pd.Series(labels), binaryPredictions, predictions)"
   ]
  },
  {
   "cell_type": "markdown",
   "metadata": {},
   "source": [
    "## Run on all data and export submission"
   ]
  },
  {
   "cell_type": "code",
   "execution_count": null,
   "metadata": {
    "scrolled": true
   },
   "outputs": [],
   "source": [
    "%%time\n",
    "contestModels = [\n",
    "    fitModel(defineModel(dropout, recurrent_dropout), allData, test, PrintAucCallback(8192, printFrequency=0.02), label, epochs, fast=True)\n",
    "    for (label, epochs, dropout, recurrent_dropout)\n",
    "    in [(\"toxic\", 6, 0.7, 0.2), \n",
    "        (\"severe_toxic\", 7, 0.9, 0.2), \n",
    "        (\"obscene\", 7, 0.7, 0.2), \n",
    "        (\"threat\", 7, 0.9, 0.3), \n",
    "        (\"insult\", 6, 0.7, 0.2), \n",
    "        (\"identity_hate\", 6, 0.8, 0.2)]]"
   ]
  },
  {
   "cell_type": "code",
   "execution_count": null,
   "metadata": {
    "scrolled": true
   },
   "outputs": [],
   "source": [
    "%%time\n",
    "categories = [\"toxic\", \"severe_toxic\", \"obscene\", \"threat\", \"insult\", \"identity_hate\"]\n",
    "contestPredictionProbabilities = {\n",
    "    category: model[0].predict(preparationPipeline.transform(contestTest), batch_size=8192) \n",
    "    for (category, model) in zip(categories, contestModels)}"
   ]
  },
  {
   "cell_type": "code",
   "execution_count": 33,
   "metadata": {},
   "outputs": [],
   "source": [
    "suffledResult = pd.DataFrame(dict(\n",
    "    [(\"id\", contestTest.id)] \n",
    "    + [(name, preds[:, 1]) for (name, preds) in contestPredictionProbabilities.items()]))\n",
    "\n",
    "result = suffledResult[[\"id\"] + categories]"
   ]
  },
  {
   "cell_type": "code",
   "execution_count": 34,
   "metadata": {},
   "outputs": [
    {
     "data": {
      "text/html": [
       "<div>\n",
       "<style scoped>\n",
       "    .dataframe tbody tr th:only-of-type {\n",
       "        vertical-align: middle;\n",
       "    }\n",
       "\n",
       "    .dataframe tbody tr th {\n",
       "        vertical-align: top;\n",
       "    }\n",
       "\n",
       "    .dataframe thead th {\n",
       "        text-align: right;\n",
       "    }\n",
       "</style>\n",
       "<table border=\"1\" class=\"dataframe\">\n",
       "  <thead>\n",
       "    <tr style=\"text-align: right;\">\n",
       "      <th></th>\n",
       "      <th>id</th>\n",
       "      <th>toxic</th>\n",
       "      <th>severe_toxic</th>\n",
       "      <th>obscene</th>\n",
       "      <th>threat</th>\n",
       "      <th>insult</th>\n",
       "      <th>identity_hate</th>\n",
       "    </tr>\n",
       "  </thead>\n",
       "  <tbody>\n",
       "    <tr>\n",
       "      <th>0</th>\n",
       "      <td>00001cee341fdb12</td>\n",
       "      <td>0.107428</td>\n",
       "      <td>0.086610</td>\n",
       "      <td>0.179781</td>\n",
       "      <td>0.043975</td>\n",
       "      <td>0.104099</td>\n",
       "      <td>0.086608</td>\n",
       "    </tr>\n",
       "    <tr>\n",
       "      <th>1</th>\n",
       "      <td>0000247867823ef7</td>\n",
       "      <td>0.147077</td>\n",
       "      <td>0.124943</td>\n",
       "      <td>0.256728</td>\n",
       "      <td>0.045869</td>\n",
       "      <td>0.097912</td>\n",
       "      <td>0.125053</td>\n",
       "    </tr>\n",
       "    <tr>\n",
       "      <th>2</th>\n",
       "      <td>00013b17ad220c46</td>\n",
       "      <td>0.144134</td>\n",
       "      <td>0.122432</td>\n",
       "      <td>0.231361</td>\n",
       "      <td>0.073960</td>\n",
       "      <td>0.156137</td>\n",
       "      <td>0.122611</td>\n",
       "    </tr>\n",
       "    <tr>\n",
       "      <th>3</th>\n",
       "      <td>00017563c3f7919a</td>\n",
       "      <td>0.094946</td>\n",
       "      <td>0.076373</td>\n",
       "      <td>0.186833</td>\n",
       "      <td>0.022637</td>\n",
       "      <td>0.050725</td>\n",
       "      <td>0.076566</td>\n",
       "    </tr>\n",
       "    <tr>\n",
       "      <th>4</th>\n",
       "      <td>00017695ad8997eb</td>\n",
       "      <td>0.105768</td>\n",
       "      <td>0.083794</td>\n",
       "      <td>0.182512</td>\n",
       "      <td>0.037039</td>\n",
       "      <td>0.066183</td>\n",
       "      <td>0.083650</td>\n",
       "    </tr>\n",
       "  </tbody>\n",
       "</table>\n",
       "</div>"
      ],
      "text/plain": [
       "                 id     toxic  severe_toxic   obscene    threat    insult  \\\n",
       "0  00001cee341fdb12  0.107428      0.086610  0.179781  0.043975  0.104099   \n",
       "1  0000247867823ef7  0.147077      0.124943  0.256728  0.045869  0.097912   \n",
       "2  00013b17ad220c46  0.144134      0.122432  0.231361  0.073960  0.156137   \n",
       "3  00017563c3f7919a  0.094946      0.076373  0.186833  0.022637  0.050725   \n",
       "4  00017695ad8997eb  0.105768      0.083794  0.182512  0.037039  0.066183   \n",
       "\n",
       "   identity_hate  \n",
       "0       0.086608  \n",
       "1       0.125053  \n",
       "2       0.122611  \n",
       "3       0.076566  \n",
       "4       0.083650  "
      ]
     },
     "execution_count": 34,
     "metadata": {},
     "output_type": "execute_result"
    }
   ],
   "source": [
    "result.head()"
   ]
  },
  {
   "cell_type": "code",
   "execution_count": null,
   "metadata": {},
   "outputs": [],
   "source": [
    "result.shape"
   ]
  },
  {
   "cell_type": "code",
   "execution_count": 45,
   "metadata": {},
   "outputs": [],
   "source": [
    "result.to_csv(\"./submissions/w2v-then-rnn-increased-dropout.csv\", index=False)"
   ]
  }
 ],
 "metadata": {
  "kernelspec": {
   "display_name": "Python 3",
   "language": "python",
   "name": "python3"
  },
  "language_info": {
   "codemirror_mode": {
    "name": "ipython",
    "version": 3
   },
   "file_extension": ".py",
   "mimetype": "text/x-python",
   "name": "python",
   "nbconvert_exporter": "python",
   "pygments_lexer": "ipython3",
   "version": "3.6.2"
  }
 },
 "nbformat": 4,
 "nbformat_minor": 1
}
