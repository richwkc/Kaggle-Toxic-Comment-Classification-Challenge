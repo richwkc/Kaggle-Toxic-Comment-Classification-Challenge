{
 "cells": [
  {
   "cell_type": "markdown",
   "metadata": {},
   "source": [
    "# Word2Vec then RNN"
   ]
  },
  {
   "cell_type": "markdown",
   "metadata": {},
   "source": [
    "## Imports and setting up TensorBoard"
   ]
  },
  {
   "cell_type": "code",
   "execution_count": 1,
   "metadata": {},
   "outputs": [],
   "source": [
    "from data_preparation import *"
   ]
  },
  {
   "cell_type": "markdown",
   "metadata": {},
   "source": [
    "## Loading data and setting up preprocessing tools"
   ]
  },
  {
   "cell_type": "code",
   "execution_count": 2,
   "metadata": {},
   "outputs": [
    {
     "name": "stdout",
     "output_type": "stream",
     "text": [
      "Loading datasets...\n",
      "train: (127656, 8), test: (31915, 8), allData: (159571, 8), contestTest: (153164, 2)\n"
     ]
    }
   ],
   "source": [
    "train, test, allData, contestTest = loadData()"
   ]
  },
  {
   "cell_type": "markdown",
   "metadata": {},
   "source": [
    "### Split sentences and apply word correction & splitting"
   ]
  },
  {
   "cell_type": "code",
   "execution_count": 5,
   "metadata": {
    "scrolled": true
   },
   "outputs": [
    {
     "name": "stdout",
     "output_type": "stream",
     "text": [
      "Splitting sentences...\n",
      "CPU times: user 18 s, sys: 720 ms, total: 18.8 s\n",
      "Wall time: 18.8 s\n"
     ]
    }
   ],
   "source": [
    "%%time\n",
    "from sklearn.pipeline import Pipeline\n",
    "\n",
    "maxSeqLength = 250\n",
    "\n",
    "splitter = SentenceSplitter(\"comment_text\")\n",
    "wordEmbedding = loadWordEmbedding(\"../../state/external-models/glove.6B/saved-2300.bin\")\n",
    "\n",
    "allWords = splitter.transform(pd.concat([allData, contestTest]))\n",
    "textWords = set([word for sentence in allWords for word in sentence])\n",
    "missingWords = textWords - set(list(wordEmbedding.vocab.keys()))\n",
    "\n",
    "missingWordsResolutionDict = loadObject(\"./missingWordsResolution.plk\")\n",
    "missingWordsResolver = MissingWordsResolver(missingWordsResolutionDict, missingWords)\n",
    "\n",
    "splittingPipeline = Pipeline(steps=[\n",
    "    (\"split\", splitter),\n",
    "    (\"resolveMissingWords\", missingWordsResolver) ])"
   ]
  },
  {
   "cell_type": "markdown",
   "metadata": {},
   "source": [
    "### W2I and zero padding"
   ]
  },
  {
   "cell_type": "code",
   "execution_count": 6,
   "metadata": {},
   "outputs": [
    {
     "name": "stdout",
     "output_type": "stream",
     "text": [
      "Resolving missing words...\n",
      "Loading w2i and i2w dictionaries...\n",
      "CPU times: user 7.9 s, sys: 68 ms, total: 7.97 s\n",
      "Wall time: 8.44 s\n"
     ]
    }
   ],
   "source": [
    "%%time\n",
    "resolvedWords = missingWordsResolver.transform(allWords)\n",
    "\n",
    "w2i = Word2Int(resolvedWords)\n",
    "zeroPadder = ZeroPadder(maxSeqLength)\n",
    "\n",
    "indexingPipeline = Pipeline(steps=[\n",
    "    (\"w2i\", w2i),\n",
    "    (\"zeroPadding\", zeroPadder)\n",
    "])"
   ]
  },
  {
   "cell_type": "code",
   "execution_count": 7,
   "metadata": {},
   "outputs": [],
   "source": [
    "preparationPipeline = Pipeline(steps=[\n",
    "    (\"splittingPipeline\", splittingPipeline),\n",
    "    (\"indexingPipeline\", indexingPipeline)\n",
    "])"
   ]
  },
  {
   "cell_type": "markdown",
   "metadata": {},
   "source": [
    "### W2V"
   ]
  },
  {
   "cell_type": "code",
   "execution_count": 8,
   "metadata": {},
   "outputs": [
    {
     "name": "stdout",
     "output_type": "stream",
     "text": [
      "Loading word2vec dictionary...\n",
      "CPU times: user 88 ms, sys: 4 ms, total: 92 ms\n",
      "Wall time: 88.5 ms\n"
     ]
    }
   ],
   "source": [
    "%%time\n",
    "w2v = Word2Vec(wordEmbedding, 300, w2i.i2w, seed=4324)"
   ]
  },
  {
   "cell_type": "code",
   "execution_count": 9,
   "metadata": {},
   "outputs": [],
   "source": [
    "embeddingMatrix, i2v = w2v.embeddingMatrix()"
   ]
  },
  {
   "cell_type": "markdown",
   "metadata": {},
   "source": [
    "## Sentence to average vector "
   ]
  },
  {
   "cell_type": "code",
   "execution_count": 87,
   "metadata": {},
   "outputs": [],
   "source": [
    "def s2v(sentence):\n",
    "    return sum([i2v[w2i.w2i[word]] for word in sentence])"
   ]
  },
  {
   "cell_type": "code",
   "execution_count": 88,
   "metadata": {},
   "outputs": [
    {
     "name": "stdout",
     "output_type": "stream",
     "text": [
      "Splitting sentences...\n",
      "Resolving missing words...\n"
     ]
    }
   ],
   "source": [
    "trainF = splittingPipeline.transform(train)"
   ]
  },
  {
   "cell_type": "code",
   "execution_count": 105,
   "metadata": {
    "scrolled": true
   },
   "outputs": [
    {
     "name": "stdout",
     "output_type": "stream",
     "text": [
      "Splitting sentences...\n",
      "Resolving missing words...\n"
     ]
    }
   ],
   "source": [
    "testF = splittingPipeline.transform(test)"
   ]
  },
  {
   "cell_type": "code",
   "execution_count": 92,
   "metadata": {},
   "outputs": [],
   "source": [
    "trainFull = pd.concat([trainF, train.toxic], axis=1)"
   ]
  },
  {
   "cell_type": "code",
   "execution_count": 104,
   "metadata": {},
   "outputs": [],
   "source": [
    "trainNonEmpty = trainFull[trainFull.comment_text.str.len() != 0]"
   ]
  },
  {
   "cell_type": "code",
   "execution_count": 106,
   "metadata": {},
   "outputs": [],
   "source": [
    "testFull = pd.concat([testF, test.toxic], axis=1)"
   ]
  },
  {
   "cell_type": "code",
   "execution_count": 107,
   "metadata": {},
   "outputs": [],
   "source": [
    "testNonEmpty = testFull[testFull.comment_text.str.len() != 0]"
   ]
  },
  {
   "cell_type": "code",
   "execution_count": 114,
   "metadata": {},
   "outputs": [],
   "source": [
    "trainSentences = np.array(trainNonEmpty.comment_text.transform(s2v).tolist())"
   ]
  },
  {
   "cell_type": "code",
   "execution_count": 115,
   "metadata": {},
   "outputs": [],
   "source": [
    "testSentences = np.array(testNonEmpty.comment_text.transform(s2v).tolist())"
   ]
  },
  {
   "cell_type": "markdown",
   "metadata": {},
   "source": [
    "## Checkpoint"
   ]
  },
  {
   "cell_type": "code",
   "execution_count": null,
   "metadata": {},
   "outputs": [],
   "source": [
    "%%time\n",
    "from sklearn.ensemble import ExtraTreesClassifier\n",
    "\n",
    "model = ExtraTreesClassifier(n_estimators=300, n_jobs=-1)\n",
    "\n",
    "model.fit(trainSentences, trainNonEmpty.toxic)\n",
    "\n",
    "predictions = model.predict_proba(testSentences)\n",
    "\n",
    "from evaluate_predictions import evaluatePredictions\n",
    "\n",
    "binaryPredictions = np.where(predictions[:, 1] > 0.5, 1, 0)\n",
    "labels = testNonEmpty.toxic\n",
    "\n",
    "evaluatePredictions(pd.Series(labels), binaryPredictions, predictions)"
   ]
  },
  {
   "cell_type": "code",
   "execution_count": null,
   "metadata": {
    "scrolled": false
   },
   "outputs": [],
   "source": [
    "predTrain = model.predict_proba(trainSentences)\n",
    "\n",
    "binaryPredictionsTrain = np.where(predTrain[:, 1] > 0.5, 1, 0)\n",
    "labels = trainNonEmpty.toxic\n",
    "\n",
    "evaluatePredictions(pd.Series(labels), binaryPredictionsTrain, predTrain)"
   ]
  }
 ],
 "metadata": {
  "kernelspec": {
   "display_name": "Python 3",
   "language": "python",
   "name": "python3"
  },
  "language_info": {
   "codemirror_mode": {
    "name": "ipython",
    "version": 3
   },
   "file_extension": ".py",
   "mimetype": "text/x-python",
   "name": "python",
   "nbconvert_exporter": "python",
   "pygments_lexer": "ipython3",
   "version": "3.6.2"
  }
 },
 "nbformat": 4,
 "nbformat_minor": 1
}
