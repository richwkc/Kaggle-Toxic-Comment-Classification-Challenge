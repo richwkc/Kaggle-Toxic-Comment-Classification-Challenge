{
 "cells": [
  {
   "cell_type": "markdown",
   "metadata": {},
   "source": [
    "# Logistic regression on oversampled datasets"
   ]
  },
  {
   "cell_type": "markdown",
   "metadata": {},
   "source": [
    "## Load datasets"
   ]
  },
  {
   "cell_type": "code",
   "execution_count": null,
   "metadata": {},
   "outputs": [],
   "source": [
    "import pandas as pd\n",
    "from os import path\n",
    "from scipy.sparse import load_npz\n",
    "\n",
    "dataDirectory = \"./data/preprocessed-train-test\"\n",
    "featuresDirectory = \"./data/features/tf-idf\"\n",
    "labels = [\"toxic\", \"severe_toxic\", \"obscene\", \"threat\", \"insult\", \"identity_hate\"]\n",
    "\n",
    "features = {label: load_npz(path.join(featuresDirectory, \"oversampled-{}-all.npz\".format(label))) \n",
    "            for label in labels}\n",
    "\n",
    "datasets = {label: pd.read_csv(path.join(dataDirectory, \"oversampled-{}-all.csv\".format(label))) \n",
    "            for label in labels}"
   ]
  },
  {
   "cell_type": "code",
   "execution_count": null,
   "metadata": {},
   "outputs": [],
   "source": [
    "contestTestFeatures = load_npz(path.join(featuresDirectory, \"contest-test.npz\"))\n",
    "contestTest = pd.read_csv(path.join(dataDirectory, \"contest-test.csv\"))"
   ]
  },
  {
   "cell_type": "markdown",
   "metadata": {},
   "source": [
    "## Logistic regression"
   ]
  },
  {
   "cell_type": "code",
   "execution_count": null,
   "metadata": {},
   "outputs": [],
   "source": [
    "from sklearn.linear_model import LogisticRegression\n",
    "\n",
    "def getLabelPredictions(trainFeature, trainDataset, testFeature, label):\n",
    "    model = LogisticRegression().fit(trainFeature, trainDataset[label])\n",
    "    return model.predict_proba(testFeature)[:, 1]"
   ]
  },
  {
   "cell_type": "code",
   "execution_count": null,
   "metadata": {},
   "outputs": [],
   "source": [
    "results = pd.DataFrame.from_items( \n",
    "    [(\"id\", contestTest[\"id\"])] \n",
    "    + [(label, getLabelPredictions(features[label], datasets[label], contestTestFeatures, label)) \n",
    "       for label in labels])"
   ]
  },
  {
   "cell_type": "markdown",
   "metadata": {},
   "source": [
    "## Export results"
   ]
  },
  {
   "cell_type": "code",
   "execution_count": null,
   "metadata": {},
   "outputs": [],
   "source": [
    "results.head()"
   ]
  },
  {
   "cell_type": "code",
   "execution_count": null,
   "metadata": {},
   "outputs": [],
   "source": [
    "results.shape"
   ]
  },
  {
   "cell_type": "code",
   "execution_count": null,
   "metadata": {},
   "outputs": [],
   "source": [
    "exportFilename = \"./submissions/oversampled-tf-idf.csv\"\n",
    "\n",
    "results.to_csv(exportFilename, index=False)"
   ]
  }
 ],
 "metadata": {
  "kernelspec": {
   "display_name": "Python 3",
   "language": "python",
   "name": "python3"
  },
  "language_info": {
   "codemirror_mode": {
    "name": "ipython",
    "version": 3
   },
   "file_extension": ".py",
   "mimetype": "text/x-python",
   "name": "python",
   "nbconvert_exporter": "python",
   "pygments_lexer": "ipython3",
   "version": "3.6.2"
  }
 },
 "nbformat": 4,
 "nbformat_minor": 2
}
