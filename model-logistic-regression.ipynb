{
 "cells": [
  {
   "cell_type": "markdown",
   "metadata": {},
   "source": [
    "# Run logistic regression on a feature set"
   ]
  },
  {
   "cell_type": "markdown",
   "metadata": {},
   "source": [
    "## Import data"
   ]
  },
  {
   "cell_type": "code",
   "execution_count": null,
   "metadata": {},
   "outputs": [],
   "source": [
    "import pandas as pd\n",
    "from os import path\n",
    "from scipy.sparse import load_npz\n",
    "\n",
    "dataDirectory = \"./data/preprocessed-train-test\"\n",
    "featuresDirectory = \"./data/features/tf-idf\"\n",
    "\n",
    "train, test, data = map(\n",
    "    lambda filename: pd.read_csv(path.join(dataDirectory, filename)), \n",
    "    [\"train.csv\", \"test.csv\", \"all.csv\"])\n",
    "\n",
    "trainFeatures, testFeatures, dataFeatures = map(\n",
    "    lambda filename: load_npz(path.join(featuresDirectory, filename)),\n",
    "    [\"train.npz\", \"test.npz\", \"all.npz\"])"
   ]
  },
  {
   "cell_type": "markdown",
   "metadata": {},
   "source": [
    "## Logistic regression"
   ]
  },
  {
   "cell_type": "code",
   "execution_count": null,
   "metadata": {},
   "outputs": [],
   "source": [
    "from sklearn.linear_model import LogisticRegression\n",
    "\n",
    "def trainModel(features, labels):\n",
    "    return LogisticRegression().fit(features, labels)\n",
    "\n",
    "def getPredictions(model, features):\n",
    "    return model.predict(features), model.predict_proba(features)"
   ]
  },
  {
   "cell_type": "code",
   "execution_count": null,
   "metadata": {},
   "outputs": [],
   "source": [
    "model = trainModel(trainFeatures, train.toxic)\n",
    "\n",
    "testPredictions, testProbPredictions = getPredictions(model, testFeatures)"
   ]
  },
  {
   "cell_type": "markdown",
   "metadata": {},
   "source": [
    "## Evaluate predictions"
   ]
  },
  {
   "cell_type": "code",
   "execution_count": null,
   "metadata": {},
   "outputs": [],
   "source": [
    "from sklearn.metrics import confusion_matrix, f1_score, log_loss, roc_auc_score\n",
    "import numpy as np\n",
    "from IPython.display import HTML, display\n",
    "from sklearn.metrics import roc_curve\n",
    "import matplotlib.pyplot as plt\n",
    "\n",
    "np.set_printoptions(precision=4, suppress=True)\n",
    "\n",
    "def getMetrics(labels, predictions, probPredictions):\n",
    "    return {\"Confusion Matrix\": pd.DataFrame(\n",
    "                data=confusion_matrix(labels, predictions),\n",
    "                index=[\"T Neutral\", \"T Toxic\"],\n",
    "                columns=[\"P Neutral\", \"P Toxic\"]), \n",
    "            \"Relativized Confusion Matrix\": pd.DataFrame(\n",
    "                data=confusion_matrix(labels, predictions) / float(len(predictions)),\n",
    "                index=[\"T Neutral\", \"T Toxic\"],\n",
    "                columns=[\"P Neutral\", \"P Toxic\"]),\n",
    "            \"F1 score\": round(f1_score(labels, predictions, pos_label=1.0), 3),\n",
    "            \"Logarithmic loss\": round(log_loss(labels, probPredictions), 4),\n",
    "            \"Area under ROC\": roc_auc_score(labels, probPredictions[:, 1]) }\n",
    "\n",
    "def printMetrics(metrics):\n",
    "    for (name, value) in metrics.items():\n",
    "        display(HTML(\"<div style='font-weight:bold'>{} :</div>\".format(name)))\n",
    "        if(name == \"Area under ROC\"):\n",
    "            display(HTML(\"<div style='font-weight:bold; color:red'>{}</div>\".format(value)))\n",
    "        else:\n",
    "            print(value)\n",
    "        \n",
    "def showROC(labels, probPredictions):\n",
    "    fpr, tpr, _ = roc_curve(labels, probPredictions, pos_label=1)\n",
    "\n",
    "    plt.xlabel(\"False Positive Rate\")\n",
    "    plt.ylabel(\"True Positive Rate\")\n",
    "    plt.title(\"ROC Curve\")\n",
    "    plt.plot([0, 1], [0, 1], color=\"darkorange\", linestyle=\"--\")\n",
    "    plt.plot(fpr, tpr, color=\"steelblue\")\n",
    "    plt.show()"
   ]
  },
  {
   "cell_type": "code",
   "execution_count": null,
   "metadata": {},
   "outputs": [],
   "source": [
    "def evaluatePredictions(labels, predictions, probPredictions):\n",
    "    printMetrics(getMetrics(labels, predictions, probPredictions))\n",
    "    showROC(labels.as_matrix(), probPredictions[:, 1])"
   ]
  },
  {
   "cell_type": "code",
   "execution_count": null,
   "metadata": {},
   "outputs": [],
   "source": [
    "evaluatePredictions(test.toxic, testPredictions, testProbPredictions)"
   ]
  },
  {
   "cell_type": "markdown",
   "metadata": {},
   "source": [
    "## Print metrics for train dataset"
   ]
  },
  {
   "cell_type": "code",
   "execution_count": null,
   "metadata": {},
   "outputs": [],
   "source": [
    "trainPredictions, trainProbPredictions = getPredictions(model, trainFeatures)\n",
    "evaluatePredictions(train.toxic, trainPredictions, trainProbPredictions)"
   ]
  }
 ],
 "metadata": {
  "kernelspec": {
   "display_name": "Python 3",
   "language": "python",
   "name": "python3"
  },
  "language_info": {
   "codemirror_mode": {
    "name": "ipython",
    "version": 3
   },
   "file_extension": ".py",
   "mimetype": "text/x-python",
   "name": "python",
   "nbconvert_exporter": "python",
   "pygments_lexer": "ipython3",
   "version": "3.6.2"
  }
 },
 "nbformat": 4,
 "nbformat_minor": 2
}
