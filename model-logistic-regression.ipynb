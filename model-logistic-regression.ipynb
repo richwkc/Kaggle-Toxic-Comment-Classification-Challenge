{
 "cells": [
  {
   "cell_type": "markdown",
   "metadata": {},
   "source": [
    "# Run logistic regression on a feature set"
   ]
  },
  {
   "cell_type": "markdown",
   "metadata": {},
   "source": [
    "## Import data"
   ]
  },
  {
   "cell_type": "code",
   "execution_count": null,
   "metadata": {},
   "outputs": [],
   "source": [
    "import pandas as pd\n",
    "from os import path\n",
    "from scipy.sparse import load_npz\n",
    "\n",
    "dataDirectory = \"./data/preprocessed-train-test\"\n",
    "featuresDirectory = \"./data/features/tf-idf\"\n",
    "\n",
    "train, test, data = map(\n",
    "    lambda filename: pd.read_csv(path.join(dataDirectory, filename)), \n",
    "    [\"train.csv\", \"test.csv\", \"all.csv\"])\n",
    "\n",
    "trainFeatures, testFeatures, dataFeatures = map(\n",
    "    lambda filename: load_npz(path.join(featuresDirectory, filename)),\n",
    "    [\"train.npz\", \"test.npz\", \"all.npz\"])"
   ]
  },
  {
   "cell_type": "markdown",
   "metadata": {},
   "source": [
    "## Logistic regression"
   ]
  },
  {
   "cell_type": "code",
   "execution_count": null,
   "metadata": {},
   "outputs": [],
   "source": [
    "from sklearn.linear_model import LogisticRegression\n",
    "\n",
    "def trainModel(features, labels):\n",
    "    return LogisticRegression().fit(features, labels)\n",
    "\n",
    "def getPredictions(model, features):\n",
    "    return model.predict(features), model.predict_proba(features)"
   ]
  },
  {
   "cell_type": "code",
   "execution_count": null,
   "metadata": {},
   "outputs": [],
   "source": [
    "model = trainModel(trainFeatures, train.toxic)\n",
    "\n",
    "testPredictions, testProbPredictions = getPredictions(model, testFeatures)"
   ]
  },
  {
   "cell_type": "markdown",
   "metadata": {},
   "source": [
    "## Evaluate predictions"
   ]
  },
  {
   "cell_type": "code",
   "execution_count": null,
   "metadata": {},
   "outputs": [],
   "source": [
    "from evaluate_predictions import evaluatePredictions"
   ]
  },
  {
   "cell_type": "code",
   "execution_count": null,
   "metadata": {},
   "outputs": [],
   "source": [
    "evaluatePredictions(test.toxic, testPredictions, testProbPredictions)"
   ]
  },
  {
   "cell_type": "markdown",
   "metadata": {},
   "source": [
    "## Print metrics for train dataset"
   ]
  },
  {
   "cell_type": "code",
   "execution_count": null,
   "metadata": {},
   "outputs": [],
   "source": [
    "trainPredictions, trainProbPredictions = getPredictions(model, trainFeatures)\n",
    "evaluatePredictions(train.toxic, trainPredictions, trainProbPredictions)"
   ]
  }
 ],
 "metadata": {
  "kernelspec": {
   "display_name": "Python 3",
   "language": "python",
   "name": "python3"
  },
  "language_info": {
   "codemirror_mode": {
    "name": "ipython",
    "version": 3
   },
   "file_extension": ".py",
   "mimetype": "text/x-python",
   "name": "python",
   "nbconvert_exporter": "python",
   "pygments_lexer": "ipython3",
   "version": "3.6.2"
  }
 },
 "nbformat": 4,
 "nbformat_minor": 2
}
