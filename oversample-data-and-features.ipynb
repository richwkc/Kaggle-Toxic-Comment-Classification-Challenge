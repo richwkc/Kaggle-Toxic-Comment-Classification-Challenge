{
 "cells": [
  {
   "cell_type": "markdown",
   "metadata": {},
   "source": [
    "# Oversample data and features"
   ]
  },
  {
   "cell_type": "markdown",
   "metadata": {},
   "source": [
    "## Import datasets and features"
   ]
  },
  {
   "cell_type": "code",
   "execution_count": null,
   "metadata": {},
   "outputs": [],
   "source": [
    "import pandas as pd\n",
    "from os import path\n",
    "from scipy.sparse import load_npz\n",
    "\n",
    "dataDirectory = \"./data/preprocessed-train-test\"\n",
    "featuresDirectory = \"./data/features/tf-idf\"\n",
    "\n",
    "train, test, data, contestTest = map(\n",
    "    lambda filename: pd.read_csv(path.join(dataDirectory, filename)), \n",
    "    [\"train.csv\", \"test.csv\", \"all.csv\", \"contest-test.csv\"])\n",
    "\n",
    "trainFeatures, testFeatures, dataFeatures, contestTestFeatures = map(\n",
    "    lambda filename: load_npz(path.join(featuresDirectory, filename)),\n",
    "    [\"train.npz\", \"test.npz\", \"all.npz\", \"contest-test.npz\"])"
   ]
  },
  {
   "cell_type": "markdown",
   "metadata": {},
   "source": [
    "## Oversampling function"
   ]
  },
  {
   "cell_type": "code",
   "execution_count": null,
   "metadata": {},
   "outputs": [],
   "source": [
    "from scipy.sparse import vstack\n",
    "\n",
    "def oversample(dataset, features, label): \n",
    "    multiples = int(dataset[dataset[label] == 0].shape[0] / dataset[dataset[label] == 1].shape[0])\n",
    "    \n",
    "    datasetPositive = dataset[dataset[label] == 1]\n",
    "    featuresPositive = features[datasetPositive.index.tolist(), :]\n",
    "    \n",
    "    datasetOversampled = pd.concat([dataset] + multiples*[datasetPositive]) \n",
    "    featuresOversampled = vstack([features] + multiples * [featuresPositive])\n",
    "    \n",
    "    return datasetOversampled, featuresOversampled"
   ]
  },
  {
   "cell_type": "markdown",
   "metadata": {},
   "source": [
    "## Export oversampled datasets and features"
   ]
  },
  {
   "cell_type": "code",
   "execution_count": null,
   "metadata": {},
   "outputs": [],
   "source": [
    "import csv\n",
    "from scipy.sparse import save_npz\n",
    "\n",
    "def exportDataset(dataset, label, name):\n",
    "    dataset.to_csv(\n",
    "        path.join(dataDirectory, \"oversampled-{}-{}.csv\".format(label, name)), \n",
    "        index=False, \n",
    "        escapechar=\"\\\\\",\n",
    "        quoting=csv.QUOTE_NONNUMERIC)\n",
    "\n",
    "def exportFeatures(features, label, name):\n",
    "    save_npz(\n",
    "        path.join(featuresDirectory, \"oversampled-{}-{}.npz\".format(label, name)), \n",
    "        features)"
   ]
  },
  {
   "cell_type": "code",
   "execution_count": null,
   "metadata": {},
   "outputs": [],
   "source": [
    "labels = train.columns[2:].tolist()\n",
    "\n",
    "for label in labels:\n",
    "    datasetOversampled, featuresOversampled = oversample(train, trainFeatures, label)\n",
    "    exportDataset(datasetOversampled, label, \"train\")\n",
    "    exportFeatures(featuresOversampled, label, \"train\")\n",
    "    \n",
    "for label in labels:\n",
    "    datasetOversampled, featuresOversampled = oversample(data, dataFeatures, label)\n",
    "    exportDataset(datasetOversampled, label, \"all\")\n",
    "    exportFeatures(featuresOversampled, label, \"all\")"
   ]
  }
 ],
 "metadata": {
  "kernelspec": {
   "display_name": "Python 3",
   "language": "python",
   "name": "python3"
  },
  "language_info": {
   "codemirror_mode": {
    "name": "ipython",
    "version": 3
   },
   "file_extension": ".py",
   "mimetype": "text/x-python",
   "name": "python",
   "nbconvert_exporter": "python",
   "pygments_lexer": "ipython3",
   "version": "3.6.2"
  }
 },
 "nbformat": 4,
 "nbformat_minor": 2
}
