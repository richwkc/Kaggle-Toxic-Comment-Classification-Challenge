{
 "cells": [
  {
   "cell_type": "markdown",
   "metadata": {},
   "source": [
    "# Word2Vec then RNN"
   ]
  },
  {
   "cell_type": "markdown",
   "metadata": {},
   "source": [
    "## Load data"
   ]
  },
  {
   "cell_type": "code",
   "execution_count": null,
   "metadata": {},
   "outputs": [],
   "source": [
    "import pandas as pd\n",
    "from os import path\n",
    "\n",
    "importDirectory = \"./data/preprocessed-train-test/\"\n",
    "\n",
    "train, test, data, contestTest = map(\n",
    "    lambda filename: pd.read_csv(path.join(importDirectory, filename)), \n",
    "    [\"train.csv\", \"test.csv\", \"all.csv\", \"contest-test.csv\"])"
   ]
  },
  {
   "cell_type": "code",
   "execution_count": null,
   "metadata": {},
   "outputs": [],
   "source": [
    "print(\"train: {}, test: {}, all: {}, contestTest: {}\".format(\n",
    "    train.shape, test.shape, data.shape, contestTest.shape))"
   ]
  },
  {
   "cell_type": "code",
   "execution_count": null,
   "metadata": {},
   "outputs": [],
   "source": [
    "def splitSentences(dataset):\n",
    "    return (dataset.comment_text\n",
    "    .str.replace(\"[^A-Za-z\\s]\", \"\")\n",
    "    .str.lower()\n",
    "    .str.split())"
   ]
  },
  {
   "cell_type": "code",
   "execution_count": null,
   "metadata": {},
   "outputs": [],
   "source": [
    "%%time\n",
    "splitTrain = splitSentences(train)\n",
    "splitTest = splitSentences(test)"
   ]
  },
  {
   "cell_type": "markdown",
   "metadata": {},
   "source": [
    "## Sentense lengths"
   ]
  },
  {
   "cell_type": "code",
   "execution_count": null,
   "metadata": {},
   "outputs": [],
   "source": [
    "sentenceLengths = splitTrain.apply(len)\n",
    "sentenceLengths.describe()"
   ]
  },
  {
   "cell_type": "code",
   "execution_count": null,
   "metadata": {},
   "outputs": [],
   "source": [
    "import matplotlib.pyplot as plt\n",
    "\n",
    "sentenceLengths.plot.box()\n",
    "plt.show()"
   ]
  },
  {
   "cell_type": "code",
   "execution_count": null,
   "metadata": {},
   "outputs": [],
   "source": [
    "sentenceLengths.hist(bins=100)\n",
    "plt.show()"
   ]
  },
  {
   "cell_type": "code",
   "execution_count": null,
   "metadata": {},
   "outputs": [],
   "source": [
    "maxSeqLength = 250"
   ]
  },
  {
   "cell_type": "markdown",
   "metadata": {},
   "source": [
    "## Load Word2Vec dictionary"
   ]
  },
  {
   "cell_type": "code",
   "execution_count": null,
   "metadata": {},
   "outputs": [],
   "source": [
    "%%time\n",
    "import gensim\n",
    "\n",
    "model = gensim.models.KeyedVectors.load_word2vec_format(\"./external-models/glove.6B/w2v.glove.6B.50.txt\")  "
   ]
  },
  {
   "cell_type": "code",
   "execution_count": null,
   "metadata": {},
   "outputs": [],
   "source": [
    "numDimensions = 50"
   ]
  },
  {
   "cell_type": "code",
   "execution_count": null,
   "metadata": {},
   "outputs": [],
   "source": [
    "%%time\n",
    "vocabulary = set(model.wv.vocab.keys())"
   ]
  },
  {
   "cell_type": "markdown",
   "metadata": {},
   "source": [
    "## Transform sentences to sequences of vectors"
   ]
  },
  {
   "cell_type": "code",
   "execution_count": null,
   "metadata": {},
   "outputs": [],
   "source": [
    "%%time\n",
    "import numpy as np\n",
    "\n",
    "# If possible, vectorize this transformation\n",
    "def wordsToVector(words):\n",
    "    allowedWords = [word for word in words if word in vocabulary]\n",
    "    leftWords = allowedWords if allowedWords else [\"hello\"]\n",
    "    \n",
    "    return model.wv[leftWords]"
   ]
  },
  {
   "cell_type": "code",
   "execution_count": null,
   "metadata": {},
   "outputs": [],
   "source": [
    "%%time\n",
    "w2vTrainFeatures = splitTrain.apply(wordsToVector)"
   ]
  },
  {
   "cell_type": "code",
   "execution_count": null,
   "metadata": {},
   "outputs": [],
   "source": [
    "%%time\n",
    "w2vTestFeatures = splitTest.apply(wordsToVector)"
   ]
  },
  {
   "cell_type": "markdown",
   "metadata": {},
   "source": [
    "## Oversample"
   ]
  },
  {
   "cell_type": "code",
   "execution_count": null,
   "metadata": {},
   "outputs": [],
   "source": [
    "def oversample(dataset, features, label): \n",
    "    multiples = int(dataset[dataset[label] == 0].shape[0] / dataset[dataset[label] == 1].shape[0])\n",
    "    \n",
    "    datasetPositive = dataset[dataset[label] == 1]\n",
    "    featuresPositive = features[datasetPositive.index.tolist()]\n",
    "    \n",
    "    datasetOversampled = pd.concat([dataset] + multiples * [datasetPositive]).reset_index() \n",
    "    featuresOversampled = pd.concat([features] + multiples * [featuresPositive]).reset_index().comment_text\n",
    "    \n",
    "    return datasetOversampled, featuresOversampled"
   ]
  },
  {
   "cell_type": "code",
   "execution_count": null,
   "metadata": {},
   "outputs": [],
   "source": [
    "trainOversampled, w2vTrainFeaturesOversampled = oversample(train, w2vTrainFeatures, \"toxic\")"
   ]
  },
  {
   "cell_type": "markdown",
   "metadata": {},
   "source": [
    "## Helper function to get batches"
   ]
  },
  {
   "cell_type": "code",
   "execution_count": null,
   "metadata": {},
   "outputs": [],
   "source": [
    "# Is padding the words till position 250 with 0s the right approach?\n",
    "def padWithZeros(array):\n",
    "    fullArray = np.zeros([maxSeqLength, numDimensions])\n",
    "    fullArray[:min(array.shape[0], maxSeqLength), :] = array[:min(array.shape[0], maxSeqLength), :]\n",
    "    return fullArray"
   ]
  },
  {
   "cell_type": "code",
   "execution_count": null,
   "metadata": {},
   "outputs": [],
   "source": [
    "# always remember to reset the seed before using getTrainBatch\n",
    "np.random.seed(4324)\n",
    "\n",
    "# Check if vectorizing this one can improve performance\n",
    "def getBatch(dataset, features, size):\n",
    "    indices = np.random.randint(0, len(features), size)\n",
    "    \n",
    "    features = np.array(features[indices].apply(padWithZeros).tolist())\n",
    "    labels = (np\n",
    "        .array(dataset.toxic[indices]\n",
    "        .apply(\n",
    "            lambda label: np.array([0., 1.]) if label == 0 else np.array([1., 0.])).tolist()))\n",
    "    return features, labels\n",
    "\n",
    "def getTrainBatch(size):\n",
    "    return getBatch(trainOversampled, w2vTrainFeaturesOversampled, size)"
   ]
  },
  {
   "cell_type": "markdown",
   "metadata": {},
   "source": [
    "## Defining the RNN"
   ]
  },
  {
   "cell_type": "code",
   "execution_count": null,
   "metadata": {},
   "outputs": [],
   "source": [
    "lstmUnits = 64\n",
    "numClasses = 2\n",
    "batchSize = 32"
   ]
  },
  {
   "cell_type": "code",
   "execution_count": null,
   "metadata": {},
   "outputs": [],
   "source": [
    "import tensorflow as tf\n",
    "\n",
    "tf.reset_default_graph()\n",
    "\n",
    "labels = tf.placeholder(tf.float32, [batchSize, numClasses], name=\"labels\")\n",
    "data = tf.placeholder(tf.float32, [batchSize, maxSeqLength, numDimensions], name=\"data\")\n",
    "\n",
    "lstmCell = tf.contrib.rnn.BasicLSTMCell(lstmUnits)\n",
    "lstmCellWithDropout = tf.contrib.rnn.DropoutWrapper(cell=lstmCell, output_keep_prob=0.75)\n",
    "value, _ = tf.nn.dynamic_rnn(lstmCellWithDropout, data, dtype=tf.float32)\n",
    "\n",
    "weight = tf.Variable(tf.truncated_normal([lstmUnits, numClasses]))\n",
    "bias = tf.Variable(tf.constant(0.1, shape=[numClasses]))\n",
    "value = tf.transpose(value, [1, 0, 2])\n",
    "last = tf.gather(value, int(value.get_shape()[0]) - 1)\n",
    "prediction = (tf.matmul(last, weight) + bias)\n",
    "\n",
    "auc = 1 - tf.metrics.auc(tf.argmax(labels,1), prediction[:, 0], name=\"auc\")[1]\n",
    "acc = tf.metrics.accuracy(tf.argmax(labels,1), tf.argmax(prediction, 1), name=\"accuracy\")[1]\n",
    "\n",
    "loss = tf.reduce_mean(tf.nn.softmax_cross_entropy_with_logits(logits=prediction, labels=labels), name=\"loss\")\n",
    "optimizer = tf.train.AdamOptimizer().minimize(loss)"
   ]
  },
  {
   "cell_type": "markdown",
   "metadata": {},
   "source": [
    "## Persist for tensorboard"
   ]
  },
  {
   "cell_type": "code",
   "execution_count": null,
   "metadata": {},
   "outputs": [],
   "source": [
    "import datetime\n",
    "\n",
    "tf.summary.scalar('Loss', loss)\n",
    "tf.summary.scalar('Area_under_roc', auc)\n",
    "tf.summary.scalar(\"Accuracy\", acc)\n",
    "merged = tf.summary.merge_all()\n",
    "logdir = \"tensorboard/\" + datetime.datetime.now().strftime(\"%Y%m%d-%H%M%S\") + \"/\""
   ]
  },
  {
   "cell_type": "markdown",
   "metadata": {},
   "source": [
    "## Training the model"
   ]
  },
  {
   "cell_type": "code",
   "execution_count": null,
   "metadata": {},
   "outputs": [],
   "source": [
    "%%time\n",
    "saver = tf.train.Saver()\n",
    "init = tf.group(tf.global_variables_initializer(), tf.local_variables_initializer())\n",
    "np.random.seed(4324)\n",
    "\n",
    "epochs = 10\n",
    "samplesPerEpoch = int(trainOversampled.shape[0] / batchSize)\n",
    "\n",
    "with tf.Session() as sess:\n",
    "    sess.run(init)\n",
    "    writer = tf.summary.FileWriter(logdir, sess.graph)\n",
    "    \n",
    "    for epoch in range(epochs):\n",
    "        print(\"Epoch #{}\".format(epoch))\n",
    "        for i in range(samplesPerEpoch):\n",
    "            nextBatch, nextBatchLabels = getTrainBatch(batchSize)\n",
    "            \n",
    "            sess.run(optimizer, {data: nextBatch, labels: nextBatchLabels})\n",
    "\n",
    "            #Save the network every 1,000 training iterations\n",
    "            iteration = epoch * samplesPerEpoch + i\n",
    "            \n",
    "            if (iteration % 1000 == 0 and iteration != 0):\n",
    "                save_path = saver.save(sess, \"models/pretrained_lstm.ckpt\", global_step=iteration)\n",
    "                print(\"saved to %s\" % save_path)\n",
    "                \n",
    "            #Write summary to Tensorboard\n",
    "            if (iteration % 100 == 0 and iteration != 0):\n",
    "                print(f\"Loss: {sess.run(loss, {data: nextBatch, labels: nextBatchLabels})}\")\n",
    "                print(f\"Acc: {sess.run(acc, {data: nextBatch, labels: nextBatchLabels})}\")\n",
    "                print(f\"Auc: {sess.run(auc, {data: nextBatch, labels: nextBatchLabels})}\")\n",
    "                summary = sess.run(merged, {data: nextBatch, labels: nextBatchLabels})\n",
    "                writer.add_summary(summary, iteration)\n",
    "    writer.close()"
   ]
  },
  {
   "cell_type": "code",
   "execution_count": null,
   "metadata": {},
   "outputs": [],
   "source": [
    "def getTestBatch(size):\n",
    "    return getBatch(test, w2vTestFeatures, size)"
   ]
  },
  {
   "cell_type": "code",
   "execution_count": null,
   "metadata": {},
   "outputs": [],
   "source": [
    "%%time\n",
    "saver = tf.train.Saver()\n",
    "init = tf.group(tf.global_variables_initializer(), tf.local_variables_initializer())\n",
    "\n",
    "preds = []\n",
    "\n",
    "with tf.Session() as sess:\n",
    "    sess.run(init)\n",
    "    saver.restore(sess, \"./models/pretrained_lstm.ckpt-74000\")\n",
    "    \n",
    "    for i in range(int(test.shape[0]/batchSize)):\n",
    "        if i % 100 == 0:\n",
    "            print(i)\n",
    "        nextBatch, nextBatchLabels = getTestBatch(batchSize)\n",
    "\n",
    "        preds.append((sess.run(prediction, {data: nextBatch}), nextBatchLabels[:, 0]))"
   ]
  },
  {
   "cell_type": "code",
   "execution_count": null,
   "metadata": {},
   "outputs": [],
   "source": [
    "prd, labs = zip(*preds)"
   ]
  },
  {
   "cell_type": "code",
   "execution_count": null,
   "metadata": {},
   "outputs": [],
   "source": [
    "prdProbVec = np.concatenate(prd)"
   ]
  },
  {
   "cell_type": "code",
   "execution_count": null,
   "metadata": {},
   "outputs": [],
   "source": [
    "prdVec = np.where(prdProbVec[:, 0] > 0.5, 1, 0)"
   ]
  },
  {
   "cell_type": "code",
   "execution_count": null,
   "metadata": {},
   "outputs": [],
   "source": [
    "labsVec = np.concatenate(labs, axis=0)"
   ]
  },
  {
   "cell_type": "code",
   "execution_count": null,
   "metadata": {},
   "outputs": [],
   "source": [
    "%%time\n",
    "saver = tf.train.Saver()\n",
    "init = tf.group(tf.global_variables_initializer(), tf.local_variables_initializer())\n",
    "\n",
    "logloss = []\n",
    "accuracy = []\n",
    "auroc = []\n",
    "\n",
    "with tf.Session() as sess:\n",
    "    sess.run(init)\n",
    "    saver.restore(sess, \"./models/pretrained_lstm.ckpt-74000\")\n",
    "    \n",
    "    for i in range(int(test.shape[0]/batchSize)):\n",
    "        if i % 100 == 0:\n",
    "            print(i)\n",
    "        nextBatch, nextBatchLabels = getTestBatch(batchSize)\n",
    "        logloss.append(sess.run(loss, {data: nextBatch, labels: nextBatchLabels}))\n",
    "        accuracy.append(sess.run(acc, {data: nextBatch, labels: nextBatchLabels}))\n",
    "        auroc.append(sess.run(auc, {data: nextBatch, labels: nextBatchLabels}))"
   ]
  },
  {
   "cell_type": "code",
   "execution_count": null,
   "metadata": {},
   "outputs": [],
   "source": [
    "def lavg(l):\n",
    "    return sum(l) / len(l)"
   ]
  },
  {
   "cell_type": "code",
   "execution_count": null,
   "metadata": {},
   "outputs": [],
   "source": [
    "print(f\"Loss: {lavg(logloss)}\")\n",
    "print(f\"Accuracy: {lavg(accuracy)}\")\n",
    "print(f\"AUC: {lavg(auroc)}\")"
   ]
  },
  {
   "cell_type": "code",
   "execution_count": null,
   "metadata": {},
   "outputs": [],
   "source": [
    "from evaluate_predictions import evaluatePredictions\n",
    "\n",
    "evaluatePredictions(pd.Series(labsVec), prdVec, 1 - prdProbVec)"
   ]
  }
 ],
 "metadata": {
  "kernelspec": {
   "display_name": "Python 3",
   "language": "python",
   "name": "python3"
  },
  "language_info": {
   "codemirror_mode": {
    "name": "ipython",
    "version": 3
   },
   "file_extension": ".py",
   "mimetype": "text/x-python",
   "name": "python",
   "nbconvert_exporter": "python",
   "pygments_lexer": "ipython3",
   "version": "3.6.2"
  }
 },
 "nbformat": 4,
 "nbformat_minor": 2
}
